{
 "cells": [
  {
   "cell_type": "markdown",
   "id": "dacf74e6",
   "metadata": {},
   "source": [
    "# NumPy"
   ]
  },
  {
   "cell_type": "markdown",
   "id": "01b2bf34",
   "metadata": {},
   "source": [
    "Read the links: https://numpy.org/doc/stable/user/quickstart.html  and https://numpy.org/doc/stable/user/basics.broadcasting.html  before solving the exercises. "
   ]
  },
  {
   "cell_type": "code",
   "execution_count": 502,
   "id": "1f79e4a6",
   "metadata": {},
   "outputs": [],
   "source": [
    "import numpy as np"
   ]
  },
  {
   "cell_type": "markdown",
   "id": "7dae6889",
   "metadata": {},
   "source": [
    "### Print out the dimension (number of axes), shape, size and the datatype of the matrix A."
   ]
  },
  {
   "cell_type": "code",
   "execution_count": 503,
   "id": "7b3678cd",
   "metadata": {},
   "outputs": [],
   "source": [
    "A = np.arange(1, 16).reshape(3, 5)"
   ]
  },
  {
   "cell_type": "code",
   "execution_count": 504,
   "id": "31d39235",
   "metadata": {},
   "outputs": [
    {
     "name": "stdout",
     "output_type": "stream",
     "text": [
      "dimension:  2\n",
      "shape:  (3, 5)\n",
      "size:  15\n",
      "<class 'numpy.ndarray'>\n"
     ]
    }
   ],
   "source": [
    "print(\"dimension: \", A.ndim)\n",
    "print(\"shape: \", A.shape)\n",
    "print(\"size: \", A.size)\n",
    "print(type(A))"
   ]
  },
  {
   "cell_type": "markdown",
   "id": "e56d2a96",
   "metadata": {},
   "source": [
    "### Do the following computations on the matrices B and C: \n",
    "* Elementwise subtraction. \n",
    "* Elementwise multiplication. \n",
    "* Matrix multiplication (by default you should use the @ operator)."
   ]
  },
  {
   "cell_type": "code",
   "execution_count": 505,
   "id": "a7053fbb",
   "metadata": {},
   "outputs": [
    {
     "name": "stdout",
     "output_type": "stream",
     "text": [
      "[[1 2 3]\n",
      " [4 5 6]\n",
      " [7 8 9]]\n",
      "\n",
      "[[2. 2. 2.]\n",
      " [2. 2. 2.]\n",
      " [2. 2. 2.]]\n"
     ]
    }
   ],
   "source": [
    "B = np.arange(1, 10).reshape(3, 3)\n",
    "C = np.ones((3, 3)) * 2\n",
    "\n",
    "print(B)\n",
    "print()\n",
    "print(C)"
   ]
  },
  {
   "cell_type": "code",
   "execution_count": 506,
   "id": "3cd794ae",
   "metadata": {},
   "outputs": [
    {
     "name": "stdout",
     "output_type": "stream",
     "text": [
      "elementwise subtraction:\n",
      " [[-1.  0.  1.]\n",
      " [ 2.  3.  4.]\n",
      " [ 5.  6.  7.]]\n",
      "elementwise multiplication:\n",
      " [[ 2.  4.  6.]\n",
      " [ 8. 10. 12.]\n",
      " [14. 16. 18.]]\n",
      "matrix multiplication:\n",
      " [[12. 12. 12.]\n",
      " [30. 30. 30.]\n",
      " [48. 48. 48.]]\n"
     ]
    }
   ],
   "source": [
    "print(\"elementwise subtraction:\\n\", B - C)\n",
    "print(\"elementwise multiplication:\\n\", B * C)\n",
    "print(\"matrix multiplication:\\n\", B @ C)"
   ]
  },
  {
   "cell_type": "markdown",
   "id": "96030d53",
   "metadata": {},
   "source": [
    "### Do the following calculations on the matrix:\n",
    "* Exponentiate each number elementwise (use the np.exp function).\n",
    "\n",
    "* Calculate the minimum value in the whole matrix. \n",
    "* Calculcate the minimum value in each row. \n",
    "* Calculcate the minimum value in each column. \n",
    "\n",
    "\n",
    "* Find the index value for the minimum value in the whole matrix (hint: use np.argmin).\n",
    "* Find the index value for the minimum value in each row (hint: use np.argmin).\n",
    "\n",
    "\n",
    "* Calculate the sum for all elements.\n",
    "* Calculate the mean for each column. \n",
    "* Calculate the median for each column. "
   ]
  },
  {
   "cell_type": "code",
   "execution_count": 507,
   "id": "f8a9166b",
   "metadata": {},
   "outputs": [
    {
     "name": "stdout",
     "output_type": "stream",
     "text": [
      "[[1 2 3]\n",
      " [4 5 6]\n",
      " [7 8 9]]\n"
     ]
    }
   ],
   "source": [
    "B = np.arange(1, 10).reshape(3, 3)\n",
    "print(B)"
   ]
  },
  {
   "cell_type": "code",
   "execution_count": 508,
   "id": "f03f24f7",
   "metadata": {},
   "outputs": [
    {
     "name": "stdout",
     "output_type": "stream",
     "text": [
      "exponentiate each number elementalwise:\n",
      " [[2.71828183e+00 7.38905610e+00 2.00855369e+01]\n",
      " [5.45981500e+01 1.48413159e+02 4.03428793e+02]\n",
      " [1.09663316e+03 2.98095799e+03 8.10308393e+03]]\n",
      "\n",
      "the minimum value in the whole matrix:\n",
      " 1\n",
      "\n",
      "the miminum value in each row:\n",
      " [1 4 7]\n",
      "\n",
      "the minimum value in each column:\n",
      " [1 2 3]\n",
      "\n",
      "index for the minimum value in the whole matrix:\n",
      " 0\n",
      "\n",
      "index for the minimum value in each row:\n",
      " [0 0 0]\n",
      "\n",
      "calculate the sum for all elements:\n",
      " 45\n",
      "\n",
      "calculate the mean for each column:\n",
      " [4. 5. 6.]\n",
      "\n",
      "calculate the median for each column:\n",
      " [4. 5. 6.]\n"
     ]
    }
   ],
   "source": [
    "print(\"exponentiate each number elementalwise:\\n\", np.exp(B))\n",
    "print(\"\\nthe minimum value in the whole matrix:\\n\", np.min(B))\n",
    "print(\"\\nthe miminum value in each row:\\n\", np.min(B, axis=1))\n",
    "print(\"\\nthe minimum value in each column:\\n\", np.min(B, axis=0))\n",
    "print(\"\\nindex for the minimum value in the whole matrix:\\n\", np.argmin(B))\n",
    "print(\"\\nindex for the minimum value in each row:\\n\", np.argmin(B, axis=1))\n",
    "print(\"\\ncalculate the sum for all elements:\\n\", np.sum(B))\n",
    "print(\"\\ncalculate the mean for each column:\\n\", np.mean(B, axis=0))\n",
    "print(\"\\ncalculate the median for each column:\\n\", np.median(B, axis=0))"
   ]
  },
  {
   "cell_type": "markdown",
   "id": "541eb7ba",
   "metadata": {},
   "source": [
    "### What does it mean when you provide fewer indices than axes when slicing? See example below."
   ]
  },
  {
   "cell_type": "code",
   "execution_count": 509,
   "id": "9c8abf56",
   "metadata": {},
   "outputs": [
    {
     "name": "stdout",
     "output_type": "stream",
     "text": [
      "[[ 1  2  3  4  5]\n",
      " [ 6  7  8  9 10]\n",
      " [11 12 13 14 15]]\n"
     ]
    }
   ],
   "source": [
    "print(A)"
   ]
  },
  {
   "cell_type": "code",
   "execution_count": 510,
   "id": "69415f7b",
   "metadata": {},
   "outputs": [
    {
     "name": "stdout",
     "output_type": "stream",
     "text": [
      "[ 6  7  8  9 10]\n"
     ]
    }
   ],
   "source": [
    "print(A[1])"
   ]
  },
  {
   "cell_type": "markdown",
   "id": "6c53541b",
   "metadata": {},
   "source": [
    "**Answer:**"
   ]
  },
  {
   "cell_type": "markdown",
   "id": "de01e120",
   "metadata": {},
   "source": [
    "You get the element in an array with indices. -> arr[1] returns the element in index 1\n",
    "\n",
    "A is a 2-dimensional array which consists of multiple array elements.\n",
    "This means that each element is defined by two subscripts, the row index and the column index.\n",
    "\n",
    "        A[row, column] = element in A\n",
    "\n",
    "        A[row] = row in A\n",
    "Missing indices are seen as [ : ] and A[0] returns the whole array in index 0.\n",
    "\n"
   ]
  },
  {
   "cell_type": "markdown",
   "id": "6652d0c9",
   "metadata": {},
   "source": [
    "### Iterating over multidimensional arrays is done with respect to the first axis, so in the example below we iterate trough the rows. If you would like to iterate through the array *elementwise*, how would you do that?"
   ]
  },
  {
   "cell_type": "code",
   "execution_count": 511,
   "id": "9459864f",
   "metadata": {},
   "outputs": [
    {
     "data": {
      "text/plain": [
       "array([[ 1,  2,  3,  4,  5],\n",
       "       [ 6,  7,  8,  9, 10],\n",
       "       [11, 12, 13, 14, 15]])"
      ]
     },
     "execution_count": 511,
     "metadata": {},
     "output_type": "execute_result"
    }
   ],
   "source": [
    "A"
   ]
  },
  {
   "cell_type": "code",
   "execution_count": 512,
   "id": "a671bb5a",
   "metadata": {},
   "outputs": [
    {
     "name": "stdout",
     "output_type": "stream",
     "text": [
      "[1 2 3 4 5]\n",
      "[ 6  7  8  9 10]\n",
      "[11 12 13 14 15]\n"
     ]
    }
   ],
   "source": [
    "for i in A:\n",
    "    print(i)"
   ]
  },
  {
   "cell_type": "markdown",
   "id": "0769a9a3",
   "metadata": {},
   "source": [
    "**Answer**\n",
    "\n",
    "There's two ways."
   ]
  },
  {
   "cell_type": "markdown",
   "id": "0fe7ed2d",
   "metadata": {},
   "source": [
    "Method 1: "
   ]
  },
  {
   "cell_type": "code",
   "execution_count": 513,
   "id": "f4e443a0",
   "metadata": {},
   "outputs": [
    {
     "name": "stdout",
     "output_type": "stream",
     "text": [
      "1\n",
      "2\n",
      "3\n",
      "4\n",
      "5\n",
      "6\n",
      "7\n",
      "8\n",
      "9\n",
      "10\n",
      "11\n",
      "12\n",
      "13\n",
      "14\n",
      "15\n"
     ]
    }
   ],
   "source": [
    "for x in A:\n",
    "    for y in x:\n",
    "        print(y)"
   ]
  },
  {
   "cell_type": "markdown",
   "id": "7c97a36f",
   "metadata": {},
   "source": [
    "Method 2:"
   ]
  },
  {
   "cell_type": "code",
   "execution_count": 514,
   "id": "6f906a01",
   "metadata": {},
   "outputs": [
    {
     "name": "stdout",
     "output_type": "stream",
     "text": [
      "1\n",
      "2\n",
      "3\n",
      "4\n",
      "5\n",
      "6\n",
      "7\n",
      "8\n",
      "9\n",
      "10\n",
      "11\n",
      "12\n",
      "13\n",
      "14\n",
      "15\n"
     ]
    }
   ],
   "source": [
    "for x in A.flat:\n",
    "    print(x)"
   ]
  },
  {
   "cell_type": "markdown",
   "id": "608a2583",
   "metadata": {},
   "source": [
    "### Explain what the code below does. More specifically, b has three axes - what does this mean? "
   ]
  },
  {
   "cell_type": "code",
   "execution_count": 515,
   "id": "f8f9b26f",
   "metadata": {},
   "outputs": [
    {
     "name": "stdout",
     "output_type": "stream",
     "text": [
      "[ 0  1  2  3  4  5  6  7  8  9 10 11 12 13 14 15 16 17 18 19 20 21 22 23\n",
      " 24 25 26 27 28 29]\n",
      "-------------\n",
      "[[[ 0  1  2  3  4]\n",
      "  [ 5  6  7  8  9]\n",
      "  [10 11 12 13 14]]\n",
      "\n",
      " [[15 16 17 18 19]\n",
      "  [20 21 22 23 24]\n",
      "  [25 26 27 28 29]]]\n"
     ]
    }
   ],
   "source": [
    "a = np.arange(30)\n",
    "b = a.reshape((2, 3, -1))\n",
    "print(a)\n",
    "print(\"-------------\")\n",
    "\n",
    "print(b)\n"
   ]
  },
  {
   "cell_type": "markdown",
   "id": "18128b45",
   "metadata": {},
   "source": [
    "**Answer**"
   ]
  },
  {
   "cell_type": "markdown",
   "id": "28d217ca",
   "metadata": {},
   "source": [
    "B is an 3-dimensional array.\\\n",
    "It contains mulitple 2-dimensional arrays\\\n",
    "Which means that you need to provide 3 indices to access the 'non-array' elements.\n",
    "\n",
    "        B[matrix, row, column] = element\n",
    "Thorough explanation below:\\\n",
    "Easy way to demonstrate how a 3-dimensional array works is by iterating through all elements with for loops."
   ]
  },
  {
   "cell_type": "code",
   "execution_count": 516,
   "id": "863a45df",
   "metadata": {},
   "outputs": [
    {
     "name": "stdout",
     "output_type": "stream",
     "text": [
      "[[ 0  1  2  3  4]\n",
      " [ 5  6  7  8  9]\n",
      " [10 11 12 13 14]]\n",
      "------------\n",
      "[0 1 2 3 4]\n",
      "Element: 0\n",
      "Element: 1\n",
      "Element: 2\n",
      "Element: 3\n",
      "Element: 4\n",
      "------------\n",
      "[5 6 7 8 9]\n",
      "Element: 5\n",
      "Element: 6\n",
      "Element: 7\n",
      "Element: 8\n",
      "Element: 9\n",
      "------------\n",
      "[10 11 12 13 14]\n",
      "Element: 10\n",
      "Element: 11\n",
      "Element: 12\n",
      "Element: 13\n",
      "Element: 14\n",
      "* * * * * * * * * * *\n",
      "[[15 16 17 18 19]\n",
      " [20 21 22 23 24]\n",
      " [25 26 27 28 29]]\n",
      "------------\n",
      "[15 16 17 18 19]\n",
      "Element: 15\n",
      "Element: 16\n",
      "Element: 17\n",
      "Element: 18\n",
      "Element: 19\n",
      "------------\n",
      "[20 21 22 23 24]\n",
      "Element: 20\n",
      "Element: 21\n",
      "Element: 22\n",
      "Element: 23\n",
      "Element: 24\n",
      "------------\n",
      "[25 26 27 28 29]\n",
      "Element: 25\n",
      "Element: 26\n",
      "Element: 27\n",
      "Element: 28\n",
      "Element: 29\n",
      "* * * * * * * * * * *\n"
     ]
    }
   ],
   "source": [
    "for z in b:                     # z is the highest dimension and can be accessed through the first index. Example b[0]\n",
    "    print(z)\n",
    "    for x in z:                 # x-elements are accessible in specified z. b[z, x]\n",
    "        print('------------')\n",
    "        print(x)\n",
    "        for y in x:             # y-elements are accessible in specified z and x. b[z, x, y]\n",
    "            print(\"Element:\", y)\n",
    "    print('* * * * * * * * * * *')\n"
   ]
  },
  {
   "cell_type": "markdown",
   "id": "ab5933d5",
   "metadata": {},
   "source": [
    "### Broadcasting\n",
    "**Read the following link about broadcasting: https://numpy.org/doc/stable/user/basics.broadcasting.html#basics-broadcasting**"
   ]
  },
  {
   "cell_type": "markdown",
   "id": "039805ba",
   "metadata": {},
   "source": [
    "# Remark on Broadcasting when doing Linear Algebra calculations in Python. "
   ]
  },
  {
   "cell_type": "markdown",
   "id": "c4bcc147",
   "metadata": {},
   "source": [
    "### From the mathematical rules of matrix addition, the operation below (m1 + m2) does not make sense. The reason is that matrix addition requires two matrices of the same size. In Python however, it works due to broadcasting rules in NumPy. So you must be careful when doing Linear Algebra calculations in Python since they do not follow the \"mathematical rules\". This can however easily be handled by doing some simple programming, for example validating that two matrices have the same shape is easy if you for instance want to add two matrices. "
   ]
  },
  {
   "cell_type": "code",
   "execution_count": 517,
   "id": "1fd46778",
   "metadata": {},
   "outputs": [
    {
     "name": "stdout",
     "output_type": "stream",
     "text": [
      "[[2 3]\n",
      " [4 5]]\n"
     ]
    }
   ],
   "source": [
    "m1 = np.array([[1, 2], [3, 4]])\n",
    "m2 = np.array([1, 1])\n",
    "print(m1 + m2)"
   ]
  },
  {
   "cell_type": "markdown",
   "id": "047d6576",
   "metadata": {},
   "source": [
    "### The example below would also not be allowed if following the \"mathematical rules\" in Linear Algebra. But it works due to broadcasting in NumPy. "
   ]
  },
  {
   "cell_type": "code",
   "execution_count": 518,
   "id": "5e6ef2e4",
   "metadata": {},
   "outputs": [
    {
     "name": "stdout",
     "output_type": "stream",
     "text": [
      "[2 3 4]\n"
     ]
    }
   ],
   "source": [
    "v1 = np.array([1, 2, 3])\n",
    "print(v1 + 1)"
   ]
  },
  {
   "cell_type": "code",
   "execution_count": 519,
   "id": "e2cbae26",
   "metadata": {},
   "outputs": [
    {
     "name": "stdout",
     "output_type": "stream",
     "text": [
      "[[1 2]\n",
      " [3 4]]\n",
      "[2 2]\n"
     ]
    }
   ],
   "source": [
    "A = np.arange(1, 5).reshape(2, 2)\n",
    "print(A)\n",
    "\n",
    "b = np.array([2, 2])\n",
    "print(b)"
   ]
  },
  {
   "cell_type": "markdown",
   "id": "722fd5cd",
   "metadata": {},
   "source": [
    "# Vector- and matrix algebra Exercises"
   ]
  },
  {
   "cell_type": "markdown",
   "id": "b63a3081-d976-4d9f-bfd0-a63917e79f7d",
   "metadata": {},
   "source": [
    "**Now you are going to create a function that can be reused every time you add or multiply matrices. The function is created so that we do the addition and multiplication according to the rules of vector- and matrix algebra.**\n",
    "\n",
    "**Create a function \"add_mult_matrices\" that takes two matrices as input arguments (validate that the input are of the type numpy.ndarray by using the isinstance function), a third argument that is either 'add' or 'multiply' that specifies if you want to add or multiply the matrices (validate that the third argument is either 'add' or 'multiply'). When doing matrix addition, validate that the matrices have the same size. When doing matrix multiplication, validate that the sizes conform (i.e. number of columns in the first matrix is equal to the number of rows in the second matrix).**"
   ]
  },
  {
   "cell_type": "code",
   "execution_count": 520,
   "id": "3506f977-ac0a-473f-85bc-eec9f35dc498",
   "metadata": {},
   "outputs": [
    {
     "name": "stdout",
     "output_type": "stream",
     "text": [
      "Matrix 1:\n",
      "[[1 2]\n",
      " [3 4]\n",
      " [5 6]]\n",
      "Matrix 2:\n",
      "[2 2]\n",
      "\n",
      "multiplying gave the following:[ 6 14 22]\n"
     ]
    }
   ],
   "source": [
    "def add_mult_matrices(m1, m2, operator=\"\"):\n",
    "\n",
    "    if not isinstance(m1, np.ndarray):\n",
    "        return f\"{m1} is of type {type(m1)}. Please provide a numpy.ndarray\"\n",
    "    elif not isinstance(m2, np.ndarray):\n",
    "        return f\"{m2} is of type {type(m2)}. Please provide a numpy.ndarray\"\n",
    "\n",
    "    print(f\"Matrix 1:\\n{m1}\\nMatrix 2:\\n{m2}\\n\")\n",
    "    result = 0\n",
    "    if operator == \"add\":\n",
    "        if m1.shape != m2.shape:\n",
    "            return f\"Can't add, the m1 and m2 aren't the same size.\"\n",
    "        result = m1 + m2\n",
    "    elif operator == \"multiply\":\n",
    "        if m1.shape[-1] != m2.shape[0]:\n",
    "            return f\"Can't multiply, m1 columns and m2 rows incompatible.\"\n",
    "        result = m1 @ m2\n",
    "    else:\n",
    "        return \"Choose either add or multiply\"\n",
    "\n",
    "    return f\"{operator}ing gave the following:{result}\"\n",
    "\n",
    "\n",
    "testA = np.arange(1, 7).reshape(3, 2)\n",
    "testB = np.array([2, 2])\n",
    "\n",
    "print(add_mult_matrices(testA, testB, \"multiply\"))"
   ]
  },
  {
   "cell_type": "markdown",
   "id": "8dad82d0-2359-4dff-8f5b-a57d3e34103c",
   "metadata": {},
   "source": [
    "### Solve all the exercises in chapter 10.1 in the book \"Matematik för yrkeshögskolan\". "
   ]
  },
  {
   "cell_type": "code",
   "execution_count": 521,
   "id": "89df88af-3668-4d98-a0a4-e6d92eea0f89",
   "metadata": {},
   "outputs": [
    {
     "name": "stdout",
     "output_type": "stream",
     "text": [
      "Uppgift 10.1.1\n",
      "a) dimension: (1, 2)\n",
      "b) 5x = [[20 15]]\n",
      "c) 3x = [[12  9]]\n",
      "d) 5x + 3x = [[32 24]]\n",
      "e) 8x = [[32 24]]\n",
      "f) 4x - x = [[12  9]]\n",
      "g) x^t, vilken blir den nya dimensionen?\n",
      "[[4]\n",
      " [3]],\n",
      "nya dimensionen är (2, 1)\n",
      "h) är x + x^t definierat? : Nej för att dimensionerna inte är identiska.\n",
      "i) ||x|| = 5.0\n"
     ]
    }
   ],
   "source": [
    "x = np.array([4, 3]).reshape(1, 2)\n",
    "print(\"Uppgift 10.1.1\")\n",
    "print(f\"a) dimension: {x.shape}\")\n",
    "print(\"b) 5x =\", x * 5)\n",
    "print(\"c) 3x =\", x * 3)\n",
    "print(\"d) 5x + 3x =\", (x * 5) + (x * 3))\n",
    "print(\"e) 8x =\", x * 8)\n",
    "print(\"f) 4x - x =\", (x * 4) - x)\n",
    "print(\"g) x^t, vilken blir den nya dimensionen?\")\n",
    "print(f\"{np.transpose(x)},\\nnya dimensionen är {np.transpose(x).shape}\")\n",
    "print(\"h) är x + x^t definierat? : Nej för att dimensionerna inte är identiska.\")\n",
    "print(\"i) ||x|| =\", np.linalg.norm(x))"
   ]
  },
  {
   "cell_type": "code",
   "execution_count": 522,
   "id": "1028c49f",
   "metadata": {},
   "outputs": [
    {
     "name": "stdout",
     "output_type": "stream",
     "text": [
      "Uppgift 10.1.2\n",
      "a) dimension: (4, 1)\n",
      "b) 2v =\n",
      " [[ 6]\n",
      " [14]\n",
      " [ 0]\n",
      " [22]]\n",
      "c) 5v + 2v =\n",
      " [[21]\n",
      " [49]\n",
      " [ 0]\n",
      " [77]]\n",
      "d) 4v - 2v =\n",
      " [[ 6]\n",
      " [14]\n",
      " [ 0]\n",
      " [22]]\n",
      "e) v^t, vilken blir den nya dimensionen?\n",
      "[[ 3  7  0 11]], nya dimensionen är (1, 4)\n",
      "f) ||v|| = 13.379088160259652\n"
     ]
    }
   ],
   "source": [
    "v = np.array([3, 7, 0, 11]).reshape(4, 1)\n",
    "print(\"Uppgift 10.1.2\")\n",
    "print(f\"a) dimension: {v.shape}\")\n",
    "print(\"b) 2v =\\n\", v * 2)\n",
    "print(\"c) 5v + 2v =\\n\", (v * 5) + (v * 2))\n",
    "print(\"d) 4v - 2v =\\n\", (v * 4) - (v * 2))\n",
    "print(\"e) v^t, vilken blir den nya dimensionen?\")\n",
    "print(f\"{np.transpose(v)}, nya dimensionen är {np.transpose(v).shape}\")\n",
    "print(\"f) ||v|| =\", np.linalg.norm(v))"
   ]
  },
  {
   "cell_type": "code",
   "execution_count": 523,
   "id": "157c61db",
   "metadata": {},
   "outputs": [
    {
     "name": "stdout",
     "output_type": "stream",
     "text": [
      "Uppgift 10.1.3\n",
      "a) ||v1|| = 7.14142842854285\n",
      "b) ||v1 - v2|| = 4.47213595499958\n"
     ]
    }
   ],
   "source": [
    "v1 = np.array([4, 3, 1, 5]).reshape(1, 4)\n",
    "v2 = np.array([2, 3, 1, 1]).reshape(1, 4)\n",
    "print(\"Uppgift 10.1.3\")\n",
    "print(\"a) ||v1|| =\", np.linalg.norm(v1))\n",
    "print(\"b) ||v1 - v2|| =\", np.linalg.norm(v1 - v2))"
   ]
  },
  {
   "cell_type": "markdown",
   "id": "75c98984-1f88-4df1-b850-d2466de444a5",
   "metadata": {},
   "source": [
    "### Solve all the exercises, except 10.2.4, in chapter 10.2 in the book \"Matematik för yrkeshögskolan\". "
   ]
  },
  {
   "cell_type": "markdown",
   "id": "da8a6339",
   "metadata": {},
   "source": [
    "**Uppgift 10.2.1** Om det är definierat, utför följande beräkningar:"
   ]
  },
  {
   "cell_type": "code",
   "execution_count": 524,
   "id": "65371610-16e1-48b2-b7fb-65e49002608a",
   "metadata": {},
   "outputs": [],
   "source": [
    "A = np.array([2, 1, -1, 1, -1, 1]).reshape(2, 3)\n",
    "B = np.array([4, -1, 1, 2, -4, -2]).reshape(2, 3)\n",
    "C = np.array([1, 2, 2, 1]).reshape(2, 2)\n",
    "D = np.array([3, 4, 4, 3]).reshape(2, 2)\n",
    "E = np.array([1, 2]).reshape(2, 1)\n",
    "I = np.array([1, 0, 0, 1]).reshape(2, 2)"
   ]
  },
  {
   "cell_type": "code",
   "execution_count": 525,
   "id": "d4281170",
   "metadata": {},
   "outputs": [
    {
     "name": "stdout",
     "output_type": "stream",
     "text": [
      "a) 2A =\n",
      " [[ 4  2 -2]\n",
      " [ 2 -2  2]]\n",
      "b) B - 2A =\n",
      " [[ 0 -3  3]\n",
      " [ 0 -2 -4]]\n",
      "c) 3C - 2E =\n",
      " Ej Definierat: Subtraktion mellan 2x2 och 2x1.\n",
      "d) 2D - 3C =\n",
      " [[3 2]\n",
      " [2 3]]\n",
      "e) D^t + 2D =\n",
      " [[ 9 12]\n",
      " [12  9]]\n",
      "f) 2C^t - 2D^t =\n",
      " [[-4 -4]\n",
      " [-4 -4]]\n",
      "g) A^t - B =\n",
      " Ej Definierat: Subtraktion mellan 3x2 och 2x3.\n",
      "h) AC =\n",
      " Ej Definierat: Multiplikaiton mellan 2x3 och 2x2.\n",
      "fortsättning...\n"
     ]
    }
   ],
   "source": [
    "print(\"a) 2A =\\n\", A * 2)\n",
    "print(\"b) B - 2A =\\n\", B - (A * 2))\n",
    "print(\"c) 3C - 2E =\\n Ej Definierat: Subtraktion mellan 2x2 och 2x1.\")\n",
    "print(\"d) 2D - 3C =\\n\", (D * 2) - (C * 3))\n",
    "print(\"e) D^t + 2D =\\n\", np.transpose(D) + (D * 2))\n",
    "print(\"f) 2C^t - 2D^t =\\n\", (np.transpose(C) * 2) - (np.transpose(D) * 2))\n",
    "print(\"g) A^t - B =\\n Ej Definierat: Subtraktion mellan 3x2 och 2x3.\")\n",
    "print(\"h) AC =\\n Ej Definierat: Multiplikaiton mellan 2x3 och 2x2.\")\n",
    "print(\"fortsättning...\")"
   ]
  },
  {
   "cell_type": "code",
   "execution_count": 526,
   "id": "db60e886",
   "metadata": {},
   "outputs": [
    {
     "name": "stdout",
     "output_type": "stream",
     "text": [
      "i) CD =\n",
      " [[11 10]\n",
      " [10 11]]\n",
      "j) CB =\n",
      " [[ 8 -9 -3]\n",
      " [10 -6  0]]\n",
      "k) CI =\n",
      " [[1 2]\n",
      " [2 1]]\n",
      "l) AB^t =\n",
      " [[6 2]\n",
      " [6 4]]\n"
     ]
    }
   ],
   "source": [
    "print(\"i) CD =\\n\", C @ D)\n",
    "print(\"j) CB =\\n\", C @ B)\n",
    "print(\"k) CI =\\n\", C @ I)\n",
    "print(\"l) AB^t =\\n\", A @ np.transpose(B))"
   ]
  },
  {
   "cell_type": "markdown",
   "id": "fd0bb262",
   "metadata": {},
   "source": [
    "**Uppgift 10.2.2** Beräkna AA<sup>t</sup>"
   ]
  },
  {
   "cell_type": "code",
   "execution_count": 527,
   "id": "4cefe0de",
   "metadata": {},
   "outputs": [
    {
     "name": "stdout",
     "output_type": "stream",
     "text": [
      "[[29 26]\n",
      " [26 42]]\n"
     ]
    }
   ],
   "source": [
    "A = np.array([2, 3, 4, 5, 4, 1]).reshape(2, 3)\n",
    "print(A @ np.transpose(A))"
   ]
  },
  {
   "cell_type": "markdown",
   "id": "78b9c770",
   "metadata": {},
   "source": [
    "**Uppgift 10.2.3** Verifiera att AB = AC men att B != C."
   ]
  },
  {
   "cell_type": "code",
   "execution_count": 528,
   "id": "a32603e4",
   "metadata": {},
   "outputs": [
    {
     "name": "stdout",
     "output_type": "stream",
     "text": [
      "AB:\n",
      " [[ 4  7]\n",
      " [ 8 14]] \n",
      "AC:\n",
      " [[ 4  7]\n",
      " [ 8 14]]\n"
     ]
    }
   ],
   "source": [
    "A = np.array([1, 2, 2, 4]).reshape(2, 2)\n",
    "B = np.array([2, 1, 1, 3]).reshape(2, 2)\n",
    "C = np.array([4, 3, 0, 2]).reshape(2, 2)\n",
    "\n",
    "print('AB:\\n',A @ B, \"\\nAC:\\n\", A @ C)"
   ]
  },
  {
   "cell_type": "markdown",
   "id": "6a4a524f",
   "metadata": {},
   "source": [
    "### Copies and Views\n",
    "Read the following link: https://numpy.org/doc/stable/user/basics.copies.html"
   ]
  },
  {
   "cell_type": "markdown",
   "id": "6cbbeaf7",
   "metadata": {},
   "source": [
    "**Basic indexing creates a view, How can you check if v1 and v2 is a view or copy? If you change the last element in v2 to 123, will the last element in v1 be changed? Why?**"
   ]
  },
  {
   "cell_type": "code",
   "execution_count": 529,
   "id": "5b9ef4df",
   "metadata": {},
   "outputs": [
    {
     "name": "stdout",
     "output_type": "stream",
     "text": [
      "[0 1 2 3]\n",
      "[2 3]\n"
     ]
    }
   ],
   "source": [
    "v1 = np.arange(4)\n",
    "v2 = v1[-2:]\n",
    "print(v1)\n",
    "print(v2)"
   ]
  },
  {
   "cell_type": "code",
   "execution_count": 530,
   "id": "d2440489",
   "metadata": {},
   "outputs": [
    {
     "name": "stdout",
     "output_type": "stream",
     "text": [
      "None\n",
      "[0 1 2 3]\n"
     ]
    }
   ],
   "source": [
    "# The base attribute of a view returns the original array while it returns None for a copy.\n",
    "print(v1.base)\n",
    "print(v2.base)"
   ]
  },
  {
   "cell_type": "code",
   "execution_count": 531,
   "id": "c8752807",
   "metadata": {},
   "outputs": [
    {
     "name": "stdout",
     "output_type": "stream",
     "text": [
      "[  0   1   2 123]\n",
      "[  2 123]\n"
     ]
    }
   ],
   "source": [
    "# The last element in v1 will be changed aswell since v2 is a view, meaning they share the same data buffer.\n",
    "v2[-1] = 123\n",
    "print(v1)\n",
    "print(v2)"
   ]
  },
  {
   "cell_type": "markdown",
   "id": "3dd68221",
   "metadata": {},
   "source": [
    "Has already been answered."
   ]
  }
 ],
 "metadata": {
  "kernelspec": {
   "display_name": "myenv",
   "language": "python",
   "name": "python3"
  },
  "language_info": {
   "codemirror_mode": {
    "name": "ipython",
    "version": 3
   },
   "file_extension": ".py",
   "mimetype": "text/x-python",
   "name": "python",
   "nbconvert_exporter": "python",
   "pygments_lexer": "ipython3",
   "version": "3.12.6"
  }
 },
 "nbformat": 4,
 "nbformat_minor": 5
}
