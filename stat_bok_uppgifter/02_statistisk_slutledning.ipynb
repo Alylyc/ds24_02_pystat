{
 "cells": [
  {
   "cell_type": "code",
   "execution_count": 1,
   "metadata": {},
   "outputs": [],
   "source": [
    "import numpy as np\n",
    "import matplotlib.pyplot as plt\n",
    "from matplotlib_venn import venn2,venn2_circles, venn3, venn3_circles"
   ]
  },
  {
   "cell_type": "markdown",
   "metadata": {},
   "source": [
    "## 6 Slumpmässigt urval och punktskattning"
   ]
  },
  {
   "cell_type": "markdown",
   "metadata": {},
   "source": [
    "### **Uppgifter**\n",
    "601 - 609"
   ]
  },
  {
   "cell_type": "markdown",
   "metadata": {},
   "source": [
    "#### **601**\n",
    "En population består av de fem elementen 0, 5, 25, 35, och 45. Slumpmässigt väljs utan återläggning tre element. Undersök om medianen i stikprovet är en väntevärdesriktig skattning av populationens medelvärde.\n",
    "\n",
    "**Svar:**\n",
    "n = 5\\\n",
    "\n",
    "$\\dbinom{5}{3}=\\dfrac{5!}{3!*2!}=\\dfrac{5*4*3}{3*2*1}=10$\n"
   ]
  },
  {
   "cell_type": "markdown",
   "metadata": {},
   "source": []
  },
  {
   "cell_type": "code",
   "execution_count": 3,
   "metadata": {},
   "outputs": [
    {
     "name": "stdout",
     "output_type": "stream",
     "text": [
      "22.0\n"
     ]
    }
   ],
   "source": [
    "pop = np.array([0, 5, 25, 35, 45])\n",
    "average = np.mean(pop)\n",
    "\n",
    "print(average)"
   ]
  }
 ],
 "metadata": {
  "kernelspec": {
   "display_name": "myenv",
   "language": "python",
   "name": "python3"
  },
  "language_info": {
   "codemirror_mode": {
    "name": "ipython",
    "version": 3
   },
   "file_extension": ".py",
   "mimetype": "text/x-python",
   "name": "python",
   "nbconvert_exporter": "python",
   "pygments_lexer": "ipython3",
   "version": "3.12.6"
  }
 },
 "nbformat": 4,
 "nbformat_minor": 2
}
