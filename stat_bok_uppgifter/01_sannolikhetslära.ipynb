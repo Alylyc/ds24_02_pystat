{
 "cells": [
  {
   "cell_type": "markdown",
   "metadata": {},
   "source": [
    "## 1 Intro"
   ]
  },
  {
   "cell_type": "markdown",
   "metadata": {},
   "source": [
    "### 1.1 Den klassiska sannolikhetsdefinitionen"
   ]
  },
  {
   "cell_type": "code",
   "execution_count": 8,
   "metadata": {},
   "outputs": [],
   "source": [
    "import numpy as np\n",
    "import matplotlib.pyplot as plt"
   ]
  },
  {
   "cell_type": "markdown",
   "metadata": {},
   "source": [
    "#### Övningsuppgifter"
   ]
  },
  {
   "cell_type": "markdown",
   "metadata": {},
   "source": [
    "**101**\\\n",
    "Lejla kastar en gång med en vanlig symmetrisk tärning.\\\n",
    "a) Vad är sannolikheten att tärningen visar högst fyra prickar? **Svar:** 4/6\\\n",
    "b) Vad är sannolikheten att tärningen visar minst fem prickar? **Svar:** 2/6\\\n",
    "c) Vilket samband finns det mellan svaren i a) och b)? **Svar:** Summan av sannolikheterna är 1, b) är därför en komplement till a) och viseversa"
   ]
  },
  {
   "cell_type": "markdown",
   "metadata": {},
   "source": [
    "**102**\\\n",
    "a) Sannolikheten att händelse A inträffar är 1/3. Vad är sannolikheten att A inte inträffar? **Svar:** 2/3.\\\n",
    "b) Vilket samband gäller mellan sannolikheten för en händelse och dess komplement? **Svar:** Tillsammans utgör de den totala antalet av möjliga utfall."
   ]
  },
  {
   "cell_type": "markdown",
   "metadata": {},
   "source": [
    "**103**\\\n",
    "a) Azzam singlar slant med två mynt och är intresserad av att bestämma sannolikheten att få exakt en krona. han resonerar på följande sätt. Antalet krona vid kast med två mynt kan anta tre olika värden: 0, 1 eller 2. Bara ett av dessa resulterar i händelsen exakt en krona. Sannolikheten är därför 1/3 enligt den klassiska definitionen. är resonemanget korrekt?\\\n",
    "**Svar:** Resonemanget är EJ korrekt. Ett mynt kan antingen vara 0 eller 1. Utfallen för två mynt är kan då uttryckas som [0, 0] , [1, 0] , [0, 1] , [1, 1]. Därför är sannolikheten 2/4 och inte 1/3.\n",
    "\n",
    "b) Du kan själv göra ett praktiskt försök så här. Kasta två mynt 100 gånger - eller simulera situationen med hjälp av datorn. Beräkna därefter den relativa frekvensen för händelsen exakt en krona genom att dividera antalet gånger händelsen inträffat i de 100 kasten med antalet kast (100). Kommentera resultatet."
   ]
  },
  {
   "cell_type": "code",
   "execution_count": 38,
   "metadata": {},
   "outputs": [
    {
     "name": "stdout",
     "output_type": "stream",
     "text": [
      "Exactly one head came up: 53 times out of 100. The probability is therefore 53%\n"
     ]
    }
   ],
   "source": [
    "def heads_cointoss(nr_of_coins, times):\n",
    "    heads = 0\n",
    "    for i in range(times):\n",
    "\n",
    "        flip = np.random.randint(low=0, high=2, size=nr_of_coins)\n",
    "\n",
    "        if np.logical_or(\n",
    "            np.logical_and(flip[0] == 0, flip[1] == 1),\n",
    "            np.logical_and(flip[0] == 1, flip[1] == 0),\n",
    "        ):\n",
    "            heads += 1\n",
    "    print(\n",
    "        f\"Exactly one head came up: {heads} times out of {times}. The probability is therefore {heads/times:.0%}.\"\n",
    "    )\n",
    "\n",
    "\n",
    "heads_cointoss(2, 100)"
   ]
  },
  {
   "cell_type": "markdown",
   "metadata": {},
   "source": [
    "c) gör en korrekt beräkning av sannolikheten för exakt en krona vid kast med två mynt. Varför är svaret 1/3 felaktigt?\\\n",
    "**Svar:** Ja, kastet av två mynt kan resultera i antingen 0, 1 eller 2. Men värdet 1 kan förekomma på två sätt:\\\n",
    "När Mynt<sub>1</sub> = 0 och Mynt<sub>2</sub> = 1 eller när Mynt<sub>1</sub> = 1 och Mynt<sub>2</sub> = 0\n",
    "\n",
    "Antalet möjliga utfall är därför 4, och sannolikheten är 2/4."
   ]
  },
  {
   "cell_type": "markdown",
   "metadata": {},
   "source": [
    "**104**\\\n",
    "Linnea kastar samtidigt en blå och en gul symmetrisk tärning.\\\n",
    "a) För varje kast skriver hon upp antalet prickar som de båda tärningarna visar. Detta innebär 36 möjliga utfall. Vilka är dessa?\\\n",
    "**Svar:**"
   ]
  },
  {
   "cell_type": "code",
   "execution_count": 55,
   "metadata": {},
   "outputs": [
    {
     "name": "stdout",
     "output_type": "stream",
     "text": [
      "[1, 1] [1, 2] [1, 3] [1, 4] [1, 5] [1, 6] [2, 1] [2, 2] [2, 3] [2, 4] [2, 5] [2, 6] [3, 1] [3, 2] [3, 3] [3, 4] [3, 5] [3, 6] [4, 1] [4, 2] [4, 3] [4, 4] [4, 5] [4, 6] [5, 1] [5, 2] [5, 3] [5, 4] [5, 5] [5, 6] [6, 1] [6, 2] [6, 3] [6, 4] [6, 5] [6, 6] \n",
      "Total outcomes:  36\n"
     ]
    }
   ],
   "source": [
    "yellow = [1, 2, 3, 4, 5, 6]\n",
    "blue = [1, 2, 3, 4, 5, 6]\n",
    "outcomes = []\n",
    "for i in yellow:\n",
    "    for j in blue:\n",
    "        outcomes.append([i, j])\n",
    "print(*outcomes, \"\\nTotal outcomes: \", len(outcomes))"
   ]
  },
  {
   "cell_type": "markdown",
   "metadata": {},
   "source": [
    "b) Linnea adderar nu antalet prickar som de båda tärningarna visar. Vilka värden kan denna summa anta?\\\n",
    "**Svar:**"
   ]
  },
  {
   "cell_type": "code",
   "execution_count": 156,
   "metadata": {},
   "outputs": [
    {
     "name": "stdout",
     "output_type": "stream",
     "text": [
      "{2, 3, 4, 5, 6, 7, 8, 9, 10, 11, 12}\n"
     ]
    },
    {
     "name": "stderr",
     "output_type": "stream",
     "text": [
      "C:\\Users\\Ally\\AppData\\Local\\Temp\\ipykernel_15460\\120554943.py:12: UserWarning: No artists with labels found to put in legend.  Note that artists whose label start with an underscore are ignored when legend() is called with no argument.\n",
      "  plt.legend(prop={'size':10})\n"
     ]
    },
    {
     "data": {
      "text/plain": [
       "<matplotlib.legend.Legend at 0x1c26b773590>"
      ]
     },
     "execution_count": 156,
     "metadata": {},
     "output_type": "execute_result"
    },
    {
     "data": {
      "image/png": "[encoded data removed]",
      "text/plain": [
       "<Figure size 1000x500 with 1 Axes>"
      ]
     },
     "metadata": {},
     "output_type": "display_data"
    }
   ],
   "source": [
    "outcomes_sum = []\n",
    "for result in outcomes:\n",
    "    outcomes_sum.append(result[0] + result[1])\n",
    "\n",
    "print(set(outcomes_sum))\n",
    "plt.figure(figsize=(10, 5))\n",
    "plt.hist(outcomes_sum, bins=np.arange(2, 14) - 0.5, edgecolor=\"black\")\n",
    "plt.xticks(np.arange(2,13))\n",
    "plt.xlabel('Sum')\n",
    "plt.ylabel('Frequence')\n",
    "plt.title('Sum frequence of 2 dice')\n"
   ]
  },
  {
   "cell_type": "markdown",
   "metadata": {},
   "source": [
    "c) Beräkna sannolikheten att summan av antalet prickar är fem.\\\n",
    "**Svar:** \\\n",
    "$\\begin{aligned}\n",
    "\\frac{4}{36} = \\frac{1}{9}\n",
    "\\end{aligned}\n",
    "$\\\n",
    "d) Beräkna sannolikheten att summan av antalet prickar är högst fyra.\\\n",
    "**Svar:**\\\n",
    "$\\begin{aligned}\\frac{1+2+3}{36} = \\frac{6}{36} = \\frac{1}{6}\\end{aligned}$\\\n",
    "e) Beräkna sannolikheten att summan av antalet prickar är minst fem.\\\n",
    "**Svar:**\\\n",
    "$\\begin{aligned}1 - \\frac{1}{6} = \\frac{5}{6}\\end{aligned}$\\\n",
    "f) Vilket samband finns det mellan svaren i d) och e)?\\\n",
    "**Svar:** d) och e) är komplementhändelser till varandra och tillsammans är antalet möjliga utfall."
   ]
  },
  {
   "cell_type": "markdown",
   "metadata": {},
   "source": [
    "### 1.4 Odds"
   ]
  },
  {
   "cell_type": "markdown",
   "metadata": {},
   "source": [
    "#### Övningsuppgifter"
   ]
  },
  {
   "cell_type": "markdown",
   "metadata": {},
   "source": [
    "**106**\\\n",
    "I den officiella statistiken redovisas antalet födda pojkar per 1000 födda flickor på det här sättet för några år i början av 2010-talet.\n",
    "|År|2010|2011|2012|2013|2014|\n",
    "|:---|---|---|---|---|---|\n",
    "|Antal pojkar|1056|1048|1058|1061|1059|\n",
    "\n",
    "Gör en uppskattning av sannolikheten för pojkfödsel.\n",
    "\n",
    "**Svar:**\\\n",
    "$\\begin{aligned}\n",
    "pojkfödsel& = 1056 + 1048 + 1058 + 1061 + 1059 \\\\\n",
    "&= 5282\\\\\n",
    "sammanlagd& = 10282\\\\\n",
    "\\\\\n",
    "\\frac{5282}{10282}& \\approx 0.514 = 51\\%\n",
    "\\end{aligned}$"
   ]
  },
  {
   "cell_type": "markdown",
   "metadata": {},
   "source": [
    "**107**\\\n",
    "Sannolikheten för en händelse är 0.25. Ange oddset för händelsen.\\\n",
    "**Odds:**\n",
    "$\\begin{aligned}\n",
    "O(A)=\\frac{Pr(A)}{Pr(\\overline{A})}=\\frac{Pr(A)}{1-Pr(A)}\n",
    "\\end{aligned}$\n",
    "\n",
    "**Svar:**\n",
    "$\\begin{aligned}\n",
    "\\frac{0.25}{1-0.25}=\\frac{0.25}{0.75}=1:3\n",
    "\\end{aligned}$"
   ]
  },
  {
   "cell_type": "markdown",
   "metadata": {},
   "source": [
    "### 1.5 Mängdlära"
   ]
  },
  {
   "cell_type": "markdown",
   "metadata": {},
   "source": [
    "#### Övningsuppgifter"
   ]
  },
  {
   "cell_type": "markdown",
   "metadata": {},
   "source": [
    "**109**\\\n",
    "Följande mängder är givna:\\\n",
    "$ S =\\left\\{1,2,3,4,5,6,7,8,9\\right\\} \\\\ A =\\left\\{2,4,6,8\\right\\} \\quad B =\\left\\{1,2,3,4,8,9\\right\\}$\n",
    "\n",
    "Ange elementen i mängderna:\\\n",
    "$ a) A\\cap B \\quad\\quad b) A\\cup B \\quad\\quad c) A\\cap\\overline{B} \\quad\\quad d) \\overline{A}\\cap B\\\\\n",
    "e) \\overline{A}\\cap\\overline{B} \\quad\\quad f) \\overline{A\\cap B} \\quad\\quad g) (A\\cap\\overline{B})\\cup(\\overline{A}\\cap B)$\n",
    "\n",
    "Beskriv med ord de olika mängderna."
   ]
  },
  {
   "cell_type": "markdown",
   "metadata": {},
   "source": [
    "**Svar:**\\\n",
    "a) A snitt B: Element som finns i båda mängderna.\\\n",
    "= $\\left\\{2,4,8\\right\\}$\\\n",
    "b) A union B: Element som finns i en av mängderna.\\\n",
    "= $\\left\\{1,2,3,4,6,8,9\\right\\}$\\\n",
    "c) A snitt B-komplement: Element som finns i A och B-komplement. = Finns i A men inte B.\\\n",
    "$\\begin{aligned}\\overline{B}&=\\left\\{5,6,7\\right\\} \\\\\n",
    "A\\cap\\overline{B} &= \\left\\{6\\right\\}\\end{aligned}$\\\n",
    "d) A-komplement snitt B: Element som finns i A-komplement och B. = Finns inte i A men i B.\\\n",
    "$\\begin{aligned}\n",
    "\\overline{A} &= \\left\\{1,3,5,7,9\\right\\}\\\\\n",
    "\\overline{A}\\cap B &= \\left\\{1,3,9\\right\\}\\end{aligned}$\\\n",
    "e) A-komplement snitt B-komplement: Element som finns i A-komplement och B-komplement. = Finns inte i A eller B.\\\n",
    "= $\\left\\{5,7\\right\\}$\\\n",
    "f) (A snitt B)-komplement: Komplementmängden till $A\\cup B$\\\n",
    "=$\\left\\{5,7\\right\\}$\\\n",
    "g) Union av c) och d)\\\n",
    "=$\\left\\{1,3,6,9\\right\\}$\n"
   ]
  },
  {
   "cell_type": "markdown",
   "metadata": {},
   "source": [
    "**110**\\\n",
    "I en tillverkningsprocess är A mängden enheter fel a och B mängden enheter med fel b.\\\n",
    "Ange uttryck för mängden:\n",
    "\n",
    "a) enheter med båda felen\\\n",
    "b) enheter med minst ett av felen\\\n",
    "c) enheter utan fel\\\n",
    "d) enheter utan fel a\\\n",
    "e) enheter med enbart fel a\\\n",
    "f) enheter med exakt ett av de två felen\\\n",
    "Rita Venndiagram och ange i dessa de olika mängderna."
   ]
  },
  {
   "cell_type": "markdown",
   "metadata": {},
   "source": [
    "**Svar:**\\\n",
    "$\\begin{aligned}\n",
    "&a) A\\cap B \\quad\\quad &b) A \\cup B \\quad\\quad &c) \\overline{A}\\cap\\overline{B}\\\\\n",
    "&d) \\overline{A} \\quad\\quad &e) A \\cap \\overline{B} \\quad\\quad &f) (A\\cap\\overline{B})\\cup(\\overline{A}\\cap B)\n",
    "\\end{aligned}$"
   ]
  },
  {
   "cell_type": "markdown",
   "metadata": {},
   "source": [
    "### 1.6 Kombinatorik"
   ]
  },
  {
   "cell_type": "markdown",
   "metadata": {},
   "source": [
    "#### Övningsuppgifter"
   ]
  },
  {
   "cell_type": "markdown",
   "metadata": {},
   "source": [
    "**115**\\\n",
    "I kvällskursen deltar 23 personer: 18 kvinnor och 5 män. Nu är det dags att välja kursombud. På hur många sätt kan man välja två personer om den först valda ska vara kursombud och den andra suppleant.\\\n",
    "**Svar:** 23 * 22 = 506"
   ]
  },
  {
   "cell_type": "markdown",
   "metadata": {},
   "source": [
    "**116**\\\n",
    "Hur många fyrsiffriga tal (0 som första siffra räknas inte) kan man bilda av de tio siffrorna 0,1..9 om samma siffra:\\\n",
    "a) får förekomma flera gånger\\\n",
    "**Svar:**\n",
    "|plats|1000|100|10|1|\n",
    "|---|---|---|---|---|\n",
    "|siffror|9|10|10|10|\n",
    "\n",
    "$9*10*10*10=9000$"
   ]
  },
  {
   "cell_type": "markdown",
   "metadata": {},
   "source": [
    "b) inte får förekomma flera gånger\\\n",
    "**Svar:**\n",
    "|plats|1000|100|10|1|\n",
    "|---|---|---|---|---|\n",
    "|siffror|9|9|8|7|\n",
    "\n",
    "$9*9*8*7=4536$"
   ]
  },
  {
   "cell_type": "code",
   "execution_count": 4,
   "metadata": {},
   "outputs": [
    {
     "data": {
      "text/plain": [
       "4536"
      ]
     },
     "execution_count": 4,
     "metadata": {},
     "output_type": "execute_result"
    }
   ],
   "source": [
    "9*9*8*7"
   ]
  },
  {
   "cell_type": "markdown",
   "metadata": {},
   "source": [
    "**117**\\\n",
    "Tio personer har sökt tjänsten som kyrkokamrer. Inför beslutet i kyrkorådet är det kyrkoherdens uppgift att välja ut tre personer bland de sökande och rangordna dessa. På hur många sätt kan detta ske?\\\n",
    "**Svar:**\\\n",
    "$10*9*8=720$ sätt"
   ]
  },
  {
   "cell_type": "markdown",
   "metadata": {},
   "source": [
    "**118**\\\n",
    "Tennisklubbens styrelse består av åtta personer. Tre av dessa ska väljas för att planera det stundande femårsjubiléet. På hur många olika sätt kan valet sker?\\\n",
    "**Svar:**\\\n",
    "$\\begin{aligned}\n",
    "\\binom{8}{3}=\\frac{8!}{3!*(8-3)!} =\\frac{8!}{3!* 5!} =\\frac{8*7*6}{3*2*1}=56\n",
    "\\end{aligned}$"
   ]
  },
  {
   "cell_type": "markdown",
   "metadata": {},
   "source": [
    "**119**\\\n",
    "De tre lärarrepresentanterna i institutionsstyrelsen ska väljas bland två professorer och fem lektorer. Vi antar att valet sker slumpmässigt. Vad är sannolikheten att man väljer en professor och två lektorer?\\\n",
    "**Svar:**\n",
    "||professor|lektor||totalt|\n",
    "|---|---|---|---|---|\n",
    "|samtliga|2|5|=|7|\n",
    "|urvalet|1|2|=|3|\n",
    "\n",
    "Antal möjliga utfall:\\\n",
    "$\\begin{aligned}\n",
    "\\binom{7}{3}=\\frac{7!}{3!*(7-3)!} =\\frac{7!}{3!* 4!} =\\frac{7*6*5}{3*2*1}=35\n",
    "\\end{aligned}$\n",
    "\n",
    "En professor ska bli vald:\\\n",
    "$\\begin{aligned}\n",
    "\\binom{2}{1} = 2\n",
    "\\end{aligned}$\n",
    "\n",
    "\n",
    "En lektor ska bli vald:\\\n",
    "$\\begin{aligned}\n",
    "\\binom{5}{2} = \\frac{5!}{2!*(5-2)!} =\\frac{5*4}{2*1}=10\n",
    "\\end{aligned}$\n",
    "\n",
    "**Sannolikheten:**\\\n",
    "$\\begin{aligned}\n",
    "\\frac{\\binom{2}{1}*\\binom{5}{2}}{\\binom{7}{3}} = \\frac{2*10}{35} =\\frac{20}{35}\\approx 0.57 = 57\\%\n",
    "\\end{aligned}$"
   ]
  },
  {
   "cell_type": "markdown",
   "metadata": {},
   "source": [
    "**120**\\\n",
    "Hur många olika bokstavsföljder kan man bilda om man använder samtliga bokstäver i ordet JOKKMOKK?\\\n",
    "**Svar:**\n",
    "|bokstav|antal|\n",
    "|---|---|\n",
    "|J|1|\n",
    "|O|2|\n",
    "|K|4|\n",
    "|M|1|\n",
    "\n",
    "$\\begin{aligned}\n",
    "\\frac{8!}{4!*2!*1!*1!}=840\\end{aligned}$ bokstavsföljder"
   ]
  },
  {
   "cell_type": "markdown",
   "metadata": {},
   "source": [
    "**121**\\\n",
    "Michaela har fått ett nytt jobb. Därför har hon bjudit med Mikael på restaurang. Menyn innehåller fjorton rätter av vilka fyra är förrätter,sju varmrätter och tre desserter.\n",
    "|Förrätt|Varmrätt|Dessert||totalt|\n",
    "|---|---|---|---|---|\n",
    "|4|7|3|=|14|\n"
   ]
  },
  {
   "cell_type": "markdown",
   "metadata": {},
   "source": [
    "a) Hur många olika sätt kan de komponera? En måltid består av tre rätter, en av varje slag.\\\n",
    "**Svar:**\\\n",
    "$7*4*3=84$ sätt"
   ]
  },
  {
   "cell_type": "markdown",
   "metadata": {},
   "source": [
    "b) På menyn finns det två kötträtter bland förrätter och fem kötträtter bland varmrätterna. Hur många måltider är det möjligt att komponera om vi anser det omöjligt med kött till både förrätt och varmrätt?\\\n",
    "||Kött|Ej Kött|\n",
    "|---|---|---|\n",
    "|Förrätt|2|2|\n",
    "|Varmrätt|5|2|\n",
    "\n",
    "**Svar:**\\\n",
    "Omöjliga måltider: $2*5*3 = 30$\\\n",
    "Totala antalet - omöjliga = $84-30=54$ måltider"
   ]
  },
  {
   "cell_type": "markdown",
   "metadata": {},
   "source": [
    "## 2 Sannolikhetsbegrepp"
   ]
  },
  {
   "cell_type": "markdown",
   "metadata": {},
   "source": [
    "### 2.1 Slumpförsök, utfallsrum, händelse"
   ]
  },
  {
   "cell_type": "markdown",
   "metadata": {},
   "source": [
    "Exempel:\n",
    "|**Slumpförsök**|**Utfallsrum**|\n",
    "|:---|:---|\n",
    "|*Kast med tärning*|$\\{1,2,3,4,5,6\\}$|\n",
    "|*Köp av lott*|$\\{\\text{vinst, ej vinst} \\}$|"
   ]
  },
  {
   "cell_type": "markdown",
   "metadata": {},
   "source": [
    "#### Övningsuppgifter"
   ]
  },
  {
   "cell_type": "markdown",
   "metadata": {},
   "source": [
    "**201**\\\n",
    "Vad innebär begreppen:\n",
    "\n",
    "a) modell\\\n",
    "**Svar:**\\\n",
    "En modell beskriver ett fenomen med matematiska uttryck.\\\n",
    "En sannolikhetsmodell beskriver fördelningen av resultaten av experimentet.\\\n",
    "'En modell ska återge väsentliga egenskaper utan att kopiera alla detaljer.'\\\n",
    "b) slumpförsök\\\n",
    "**Svar:** En händelse med oförutsägbar utfall.\\\n",
    "c) utfallsrum\\\n",
    "**Svar:** slumpförsökets alla möjliga utfall.\\\n",
    "d) händelse\\\n",
    "**Svar:** 'En händelse är en delmängd av försökets utfallsrum'\\\n",
    "e) säker händelse\\\n",
    "**Svar:** Består av alla utfall i utfallsrummet.\\\n",
    "f) omöjlig händelse\\\n",
    "**Svar:** Består av inget utfall."
   ]
  },
  {
   "cell_type": "markdown",
   "metadata": {},
   "source": [
    "**202**\\\n",
    "Rita venndiagram"
   ]
  },
  {
   "cell_type": "markdown",
   "metadata": {},
   "source": [
    "**203**\\\n",
    "A,B och C är tre händelser, som kan inträffa i ett slumpförsök. Hur läser man följande uttryck:\n",
    "\n",
    "$\\begin{aligned}\n",
    "\\text{a)}& \\quad A\\cup B\\cup C& \\quad\\quad \\text{b)}& A\\cap B\\cap C\\\\\n",
    "\\text{c)}& \\quad A\\cap \\overline{B}\\cap\\overline{C}& \\text{d)}&\\overline{A}\\cap\\overline{B}\\cap\\overline{C}\n",
    "\\end{aligned}$"
   ]
  },
  {
   "cell_type": "markdown",
   "metadata": {},
   "source": [
    "**Svar:**\\\n",
    "a) Minst en av händelserna inträffar.\\\n",
    "b) Alla händelser inträffar samtidigt.\\\n",
    "c) Endast A inträffar.\\\n",
    "d) Ingen av händelserna."
   ]
  }
 ],
 "metadata": {
  "kernelspec": {
   "display_name": "myenv",
   "language": "python",
   "name": "python3"
  },
  "language_info": {
   "codemirror_mode": {
    "name": "ipython",
    "version": 3
   },
   "file_extension": ".py",
   "mimetype": "text/x-python",
   "name": "python",
   "nbconvert_exporter": "python",
   "pygments_lexer": "ipython3",
   "version": "3.12.6"
  }
 },
 "nbformat": 4,
 "nbformat_minor": 2
}
