{
 "cells": [
  {
   "cell_type": "markdown",
   "metadata": {},
   "source": [
    "## 1 Intro"
   ]
  },
  {
   "cell_type": "markdown",
   "metadata": {},
   "source": [
    "### 1.1 Den klassiska sannolikhetsdefinitionen"
   ]
  },
  {
   "cell_type": "code",
   "execution_count": 2,
   "metadata": {},
   "outputs": [],
   "source": [
    "import numpy as np\n",
    "import matplotlib.pyplot as plt\n",
    "from matplotlib_venn import venn2,venn2_circles, venn3, venn3_circles"
   ]
  },
  {
   "cell_type": "markdown",
   "metadata": {},
   "source": [
    "#### Övningsuppgifter"
   ]
  },
  {
   "cell_type": "markdown",
   "metadata": {},
   "source": [
    "**101**\\\n",
    "Lejla kastar en gång med en vanlig symmetrisk tärning.\\\n",
    "a) Vad är sannolikheten att tärningen visar högst fyra prickar? **Svar:** 4/6\\\n",
    "b) Vad är sannolikheten att tärningen visar minst fem prickar? **Svar:** 2/6\\\n",
    "c) Vilket samband finns det mellan svaren i a) och b)? **Svar:** Summan av sannolikheterna är 1, b) är därför en komplement till a) och viseversa"
   ]
  },
  {
   "cell_type": "markdown",
   "metadata": {},
   "source": [
    "**102**\\\n",
    "a) Sannolikheten att händelse A inträffar är 1/3. Vad är sannolikheten att A inte inträffar? **Svar:** 2/3.\\\n",
    "b) Vilket samband gäller mellan sannolikheten för en händelse och dess komplement? **Svar:** Tillsammans utgör de den totala antalet av möjliga utfall."
   ]
  },
  {
   "cell_type": "markdown",
   "metadata": {},
   "source": [
    "**103**\\\n",
    "a) Azzam singlar slant med två mynt och är intresserad av att bestämma sannolikheten att få exakt en krona. han resonerar på följande sätt. Antalet krona vid kast med två mynt kan anta tre olika värden: 0, 1 eller 2. Bara ett av dessa resulterar i händelsen exakt en krona. Sannolikheten är därför 1/3 enligt den klassiska definitionen. är resonemanget korrekt?\\\n",
    "**Svar:** Resonemanget är EJ korrekt. Ett mynt kan antingen vara 0 eller 1. Utfallen för två mynt är kan då uttryckas som [0, 0] , [1, 0] , [0, 1] , [1, 1]. Därför är sannolikheten 2/4 och inte 1/3.\n",
    "\n",
    "b) Du kan själv göra ett praktiskt försök så här. Kasta två mynt 100 gånger - eller simulera situationen med hjälp av datorn. Beräkna därefter den relativa frekvensen för händelsen exakt en krona genom att dividera antalet gånger händelsen inträffat i de 100 kasten med antalet kast (100). Kommentera resultatet."
   ]
  },
  {
   "cell_type": "code",
   "execution_count": 38,
   "metadata": {},
   "outputs": [
    {
     "name": "stdout",
     "output_type": "stream",
     "text": [
      "Exactly one head came up: 53 times out of 100. The probability is therefore 53%\n"
     ]
    }
   ],
   "source": [
    "def heads_cointoss(nr_of_coins, times):\n",
    "    heads = 0\n",
    "    for i in range(times):\n",
    "\n",
    "        flip = np.random.randint(low=0, high=2, size=nr_of_coins)\n",
    "\n",
    "        if np.logical_or(\n",
    "            np.logical_and(flip[0] == 0, flip[1] == 1),\n",
    "            np.logical_and(flip[0] == 1, flip[1] == 0),\n",
    "        ):\n",
    "            heads += 1\n",
    "    print(\n",
    "        f\"Exactly one head came up: {heads} times out of {times}. The probability is therefore {heads/times:.0%}.\"\n",
    "    )\n",
    "\n",
    "\n",
    "heads_cointoss(2, 100)"
   ]
  },
  {
   "cell_type": "markdown",
   "metadata": {},
   "source": [
    "c) gör en korrekt beräkning av sannolikheten för exakt en krona vid kast med två mynt. Varför är svaret 1/3 felaktigt?\\\n",
    "**Svar:** Ja, kastet av två mynt kan resultera i antingen 0, 1 eller 2. Men värdet 1 kan förekomma på två sätt:\\\n",
    "När Mynt<sub>1</sub> = 0 och Mynt<sub>2</sub> = 1 eller när Mynt<sub>1</sub> = 1 och Mynt<sub>2</sub> = 0\n",
    "\n",
    "Antalet möjliga utfall är därför 4, och sannolikheten är 2/4."
   ]
  },
  {
   "cell_type": "markdown",
   "metadata": {},
   "source": [
    "**104**\\\n",
    "Linnea kastar samtidigt en blå och en gul symmetrisk tärning.\\\n",
    "a) För varje kast skriver hon upp antalet prickar som de båda tärningarna visar. Detta innebär 36 möjliga utfall. Vilka är dessa?\\\n",
    "**Svar:**"
   ]
  },
  {
   "cell_type": "code",
   "execution_count": 55,
   "metadata": {},
   "outputs": [
    {
     "name": "stdout",
     "output_type": "stream",
     "text": [
      "[1, 1] [1, 2] [1, 3] [1, 4] [1, 5] [1, 6] [2, 1] [2, 2] [2, 3] [2, 4] [2, 5] [2, 6] [3, 1] [3, 2] [3, 3] [3, 4] [3, 5] [3, 6] [4, 1] [4, 2] [4, 3] [4, 4] [4, 5] [4, 6] [5, 1] [5, 2] [5, 3] [5, 4] [5, 5] [5, 6] [6, 1] [6, 2] [6, 3] [6, 4] [6, 5] [6, 6] \n",
      "Total outcomes:  36\n"
     ]
    }
   ],
   "source": [
    "yellow = [1, 2, 3, 4, 5, 6]\n",
    "blue = [1, 2, 3, 4, 5, 6]\n",
    "outcomes = []\n",
    "for i in yellow:\n",
    "    for j in blue:\n",
    "        outcomes.append([i, j])\n",
    "print(*outcomes, \"\\nTotal outcomes: \", len(outcomes))"
   ]
  },
  {
   "cell_type": "markdown",
   "metadata": {},
   "source": [
    "b) Linnea adderar nu antalet prickar som de båda tärningarna visar. Vilka värden kan denna summa anta?\\\n",
    "**Svar:**"
   ]
  },
  {
   "cell_type": "code",
   "execution_count": 156,
   "metadata": {},
   "outputs": [
    {
     "name": "stdout",
     "output_type": "stream",
     "text": [
      "{2, 3, 4, 5, 6, 7, 8, 9, 10, 11, 12}\n"
     ]
    },
    {
     "name": "stderr",
     "output_type": "stream",
     "text": [
      "C:\\Users\\Ally\\AppData\\Local\\Temp\\ipykernel_15460\\120554943.py:12: UserWarning: No artists with labels found to put in legend.  Note that artists whose label start with an underscore are ignored when legend() is called with no argument.\n",
      "  plt.legend(prop={'size':10})\n"
     ]
    },
    {
     "data": {
      "text/plain": [
       "<matplotlib.legend.Legend at 0x1c26b773590>"
      ]
     },
     "execution_count": 156,
     "metadata": {},
     "output_type": "execute_result"
    },
    {
     "data": {
      "image/png": "[encoded data removed]",
      "text/plain": [
       "<Figure size 1000x500 with 1 Axes>"
      ]
     },
     "metadata": {},
     "output_type": "display_data"
    }
   ],
   "source": [
    "outcomes_sum = []\n",
    "for result in outcomes:\n",
    "    outcomes_sum.append(result[0] + result[1])\n",
    "\n",
    "print(set(outcomes_sum))\n",
    "plt.figure(figsize=(10, 5))\n",
    "plt.hist(outcomes_sum, bins=np.arange(2, 14) - 0.5, edgecolor=\"black\")\n",
    "plt.xticks(np.arange(2, 13))\n",
    "plt.xlabel(\"Sum\")\n",
    "plt.ylabel(\"Frequence\")\n",
    "plt.title(\"Sum frequence of 2 dice\")"
   ]
  },
  {
   "cell_type": "markdown",
   "metadata": {},
   "source": [
    "c) Beräkna sannolikheten att summan av antalet prickar är fem.\\\n",
    "**Svar:** \\\n",
    "$\\begin{aligned}\n",
    "\\frac{4}{36} = \\frac{1}{9}\n",
    "\\end{aligned}\n",
    "$\\\n",
    "d) Beräkna sannolikheten att summan av antalet prickar är högst fyra.\\\n",
    "**Svar:**\\\n",
    "$\\begin{aligned}\\frac{1+2+3}{36} = \\frac{6}{36} = \\frac{1}{6}\\end{aligned}$\\\n",
    "e) Beräkna sannolikheten att summan av antalet prickar är minst fem.\\\n",
    "**Svar:**\\\n",
    "$\\begin{aligned}1 - \\frac{1}{6} = \\frac{5}{6}\\end{aligned}$\\\n",
    "f) Vilket samband finns det mellan svaren i d) och e)?\\\n",
    "**Svar:** d) och e) är komplementhändelser till varandra och tillsammans är antalet möjliga utfall."
   ]
  },
  {
   "cell_type": "markdown",
   "metadata": {},
   "source": [
    "### 1.4 Odds"
   ]
  },
  {
   "cell_type": "markdown",
   "metadata": {},
   "source": [
    "#### Övningsuppgifter"
   ]
  },
  {
   "cell_type": "markdown",
   "metadata": {},
   "source": [
    "**106**\\\n",
    "I den officiella statistiken redovisas antalet födda pojkar per 1000 födda flickor på det här sättet för några år i början av 2010-talet.\n",
    "|År|2010|2011|2012|2013|2014|\n",
    "|:---|---|---|---|---|---|\n",
    "|Antal pojkar|1056|1048|1058|1061|1059|\n",
    "\n",
    "Gör en uppskattning av sannolikheten för pojkfödsel.\n",
    "\n",
    "**Svar:**\\\n",
    "$\\begin{aligned}\n",
    "pojkfödsel& = 1056 + 1048 + 1058 + 1061 + 1059 \\\\\n",
    "&= 5282\\\\\n",
    "sammanlagd& = 10282\\\\\n",
    "\\\\\n",
    "\\frac{5282}{10282}& \\approx 0.514 = 51\\%\n",
    "\\end{aligned}$"
   ]
  },
  {
   "cell_type": "markdown",
   "metadata": {},
   "source": [
    "**107**\\\n",
    "Sannolikheten för en händelse är 0.25. Ange oddset för händelsen.\\\n",
    "**Odds:**\n",
    "$\\begin{aligned}\n",
    "O(A)=\\frac{Pr(A)}{Pr(\\overline{A})}=\\frac{Pr(A)}{1-Pr(A)}\n",
    "\\end{aligned}$\n",
    "\n",
    "**Svar:**\n",
    "$\\begin{aligned}\n",
    "\\frac{0.25}{1-0.25}=\\frac{0.25}{0.75}=1:3\n",
    "\\end{aligned}$"
   ]
  },
  {
   "cell_type": "markdown",
   "metadata": {},
   "source": [
    "### 1.5 Mängdlära"
   ]
  },
  {
   "cell_type": "markdown",
   "metadata": {},
   "source": [
    "#### Övningsuppgifter"
   ]
  },
  {
   "cell_type": "markdown",
   "metadata": {},
   "source": [
    "**109**\\\n",
    "Följande mängder är givna:\\\n",
    "$ S =\\left\\{1,2,3,4,5,6,7,8,9\\right\\} \\\\ A =\\left\\{2,4,6,8\\right\\} \\quad B =\\left\\{1,2,3,4,8,9\\right\\}$\n",
    "\n",
    "Ange elementen i mängderna:\\\n",
    "$ a) A\\cap B \\quad\\quad b) A\\cup B \\quad\\quad c) A\\cap\\overline{B} \\quad\\quad d) \\overline{A}\\cap B\\\\\n",
    "e) \\overline{A}\\cap\\overline{B} \\quad\\quad f) \\overline{A\\cap B} \\quad\\quad g) (A\\cap\\overline{B})\\cup(\\overline{A}\\cap B)$\n",
    "\n",
    "Beskriv med ord de olika mängderna."
   ]
  },
  {
   "cell_type": "markdown",
   "metadata": {},
   "source": [
    "**Svar:**\\\n",
    "a) A snitt B: Element som finns i båda mängderna.\\\n",
    "= $\\left\\{2,4,8\\right\\}$\\\n",
    "b) A union B: Element som finns i en av mängderna.\\\n",
    "= $\\left\\{1,2,3,4,6,8,9\\right\\}$\\\n",
    "c) A snitt B-komplement: Element som finns i A och B-komplement. = Finns i A men inte B.\\\n",
    "$\\begin{aligned}\\overline{B}&=\\left\\{5,6,7\\right\\} \\\\\n",
    "A\\cap\\overline{B} &= \\left\\{6\\right\\}\\end{aligned}$\\\n",
    "d) A-komplement snitt B: Element som finns i A-komplement och B. = Finns inte i A men i B.\\\n",
    "$\\begin{aligned}\n",
    "\\overline{A} &= \\left\\{1,3,5,7,9\\right\\}\\\\\n",
    "\\overline{A}\\cap B &= \\left\\{1,3,9\\right\\}\\end{aligned}$\\\n",
    "e) A-komplement snitt B-komplement: Element som finns i A-komplement och B-komplement. = Finns inte i A eller B.\\\n",
    "= $\\left\\{5,7\\right\\}$\\\n",
    "f) (A snitt B)-komplement: Komplementmängden till $A\\cup B$\\\n",
    "=$\\left\\{5,7\\right\\}$\\\n",
    "g) Union av c) och d)\\\n",
    "=$\\left\\{1,3,6,9\\right\\}$\n"
   ]
  },
  {
   "cell_type": "markdown",
   "metadata": {},
   "source": [
    "**110**\\\n",
    "I en tillverkningsprocess är A mängden enheter fel a och B mängden enheter med fel b.\\\n",
    "Ange uttryck för mängden:\n",
    "\n",
    "a) enheter med båda felen\\\n",
    "b) enheter med minst ett av felen\\\n",
    "c) enheter utan fel\\\n",
    "d) enheter utan fel a\\\n",
    "e) enheter med enbart fel a\\\n",
    "f) enheter med exakt ett av de två felen\\\n",
    "Rita Venndiagram och ange i dessa de olika mängderna."
   ]
  },
  {
   "cell_type": "markdown",
   "metadata": {},
   "source": [
    "**Svar:**\\\n",
    "$\\begin{aligned}\n",
    "&a) A\\cap B \\quad\\quad &b) A \\cup B \\quad\\quad &c) \\overline{A}\\cap\\overline{B}\\\\\n",
    "&d) \\overline{A} \\quad\\quad &e) A \\cap \\overline{B} \\quad\\quad &f) (A\\cap\\overline{B})\\cup(\\overline{A}\\cap B)\n",
    "\\end{aligned}$"
   ]
  },
  {
   "cell_type": "markdown",
   "metadata": {},
   "source": [
    "### 1.6 Kombinatorik"
   ]
  },
  {
   "cell_type": "markdown",
   "metadata": {},
   "source": [
    "#### Övningsuppgifter"
   ]
  },
  {
   "cell_type": "markdown",
   "metadata": {},
   "source": [
    "**115**\\\n",
    "I kvällskursen deltar 23 personer: 18 kvinnor och 5 män. Nu är det dags att välja kursombud. På hur många sätt kan man välja två personer om den först valda ska vara kursombud och den andra suppleant.\\\n",
    "**Svar:** 23 * 22 = 506"
   ]
  },
  {
   "cell_type": "markdown",
   "metadata": {},
   "source": [
    "**116**\\\n",
    "Hur många fyrsiffriga tal (0 som första siffra räknas inte) kan man bilda av de tio siffrorna 0,1..9 om samma siffra:\\\n",
    "a) får förekomma flera gånger\\\n",
    "**Svar:**\n",
    "|plats|1000|100|10|1|\n",
    "|---|---|---|---|---|\n",
    "|siffror|9|10|10|10|\n",
    "\n",
    "$9*10*10*10=9000$"
   ]
  },
  {
   "cell_type": "markdown",
   "metadata": {},
   "source": [
    "b) inte får förekomma flera gånger\\\n",
    "**Svar:**\n",
    "|plats|1000|100|10|1|\n",
    "|---|---|---|---|---|\n",
    "|siffror|9|9|8|7|\n",
    "\n",
    "$9*9*8*7=4536$"
   ]
  },
  {
   "cell_type": "code",
   "execution_count": 4,
   "metadata": {},
   "outputs": [
    {
     "data": {
      "text/plain": [
       "4536"
      ]
     },
     "execution_count": 4,
     "metadata": {},
     "output_type": "execute_result"
    }
   ],
   "source": [
    "9 * 9 * 8 * 7"
   ]
  },
  {
   "cell_type": "markdown",
   "metadata": {},
   "source": [
    "**117**\\\n",
    "Tio personer har sökt tjänsten som kyrkokamrer. Inför beslutet i kyrkorådet är det kyrkoherdens uppgift att välja ut tre personer bland de sökande och rangordna dessa. På hur många sätt kan detta ske?\\\n",
    "**Svar:**\\\n",
    "$10*9*8=720$ sätt"
   ]
  },
  {
   "cell_type": "markdown",
   "metadata": {},
   "source": [
    "**118**\\\n",
    "Tennisklubbens styrelse består av åtta personer. Tre av dessa ska väljas för att planera det stundande femårsjubiléet. På hur många olika sätt kan valet sker?\\\n",
    "**Svar:**\\\n",
    "$\\begin{aligned}\n",
    "\\binom{8}{3}=\\frac{8!}{3!*(8-3)!} =\\frac{8!}{3!* 5!} =\\frac{8*7*6}{3*2*1}=56\n",
    "\\end{aligned}$"
   ]
  },
  {
   "cell_type": "markdown",
   "metadata": {},
   "source": [
    "**119**\\\n",
    "De tre lärarrepresentanterna i institutionsstyrelsen ska väljas bland två professorer och fem lektorer. Vi antar att valet sker slumpmässigt. Vad är sannolikheten att man väljer en professor och två lektorer?\\\n",
    "**Svar:**\n",
    "||professor|lektor||totalt|\n",
    "|---|---|---|---|---|\n",
    "|samtliga|2|5|=|7|\n",
    "|urvalet|1|2|=|3|\n",
    "\n",
    "Antal möjliga utfall:\\\n",
    "$\\begin{aligned}\n",
    "\\binom{7}{3}=\\frac{7!}{3!*(7-3)!} =\\frac{7!}{3!* 4!} =\\frac{7*6*5}{3*2*1}=35\n",
    "\\end{aligned}$\n",
    "\n",
    "En professor ska bli vald:\\\n",
    "$\\begin{aligned}\n",
    "\\binom{2}{1} = 2\n",
    "\\end{aligned}$\n",
    "\n",
    "\n",
    "En lektor ska bli vald:\\\n",
    "$\\begin{aligned}\n",
    "\\binom{5}{2} = \\frac{5!}{2!*(5-2)!} =\\frac{5*4}{2*1}=10\n",
    "\\end{aligned}$\n",
    "\n",
    "**Sannolikheten:**\\\n",
    "$\\begin{aligned}\n",
    "\\frac{\\binom{2}{1}*\\binom{5}{2}}{\\binom{7}{3}} = \\frac{2*10}{35} =\\frac{20}{35}\\approx 0.57 = 57\\%\n",
    "\\end{aligned}$"
   ]
  },
  {
   "cell_type": "markdown",
   "metadata": {},
   "source": [
    "**120**\\\n",
    "Hur många olika bokstavsföljder kan man bilda om man använder samtliga bokstäver i ordet JOKKMOKK?\\\n",
    "**Svar:**\n",
    "|bokstav|antal|\n",
    "|---|---|\n",
    "|J|1|\n",
    "|O|2|\n",
    "|K|4|\n",
    "|M|1|\n",
    "\n",
    "$\\begin{aligned}\n",
    "\\frac{8!}{4!*2!*1!*1!}=840\\end{aligned}$ bokstavsföljder"
   ]
  },
  {
   "cell_type": "markdown",
   "metadata": {},
   "source": [
    "**121**\\\n",
    "Michaela har fått ett nytt jobb. Därför har hon bjudit med Mikael på restaurang. Menyn innehåller fjorton rätter av vilka fyra är förrätter,sju varmrätter och tre desserter.\n",
    "|Förrätt|Varmrätt|Dessert||totalt|\n",
    "|---|---|---|---|---|\n",
    "|4|7|3|=|14|\n"
   ]
  },
  {
   "cell_type": "markdown",
   "metadata": {},
   "source": [
    "a) Hur många olika sätt kan de komponera? En måltid består av tre rätter, en av varje slag.\\\n",
    "**Svar:**\\\n",
    "$7*4*3=84$ sätt"
   ]
  },
  {
   "cell_type": "markdown",
   "metadata": {},
   "source": [
    "b) På menyn finns det två kötträtter bland förrätter och fem kötträtter bland varmrätterna. Hur många måltider är det möjligt att komponera om vi anser det omöjligt med kött till både förrätt och varmrätt?\\\n",
    "||Kött|Ej Kött|\n",
    "|---|---|---|\n",
    "|Förrätt|2|2|\n",
    "|Varmrätt|5|2|\n",
    "\n",
    "**Svar:**\\\n",
    "Omöjliga måltider: $2*5*3 = 30$\\\n",
    "Totala antalet - omöjliga = $84-30=54$ måltider"
   ]
  },
  {
   "cell_type": "markdown",
   "metadata": {},
   "source": [
    "## 2 Sannolikhetsbegrepp"
   ]
  },
  {
   "cell_type": "markdown",
   "metadata": {},
   "source": [
    "### 2.1 Slumpförsök, utfallsrum, händelse"
   ]
  },
  {
   "cell_type": "markdown",
   "metadata": {},
   "source": [
    "Exempel:\n",
    "|**Slumpförsök**|**Utfallsrum**|\n",
    "|:---|:---|\n",
    "|*Kast med tärning*|$\\{1,2,3,4,5,6\\}$|\n",
    "|*Köp av lott*|$\\{\\text{vinst, ej vinst} \\}$|"
   ]
  },
  {
   "cell_type": "markdown",
   "metadata": {},
   "source": [
    "#### Övningsuppgifter"
   ]
  },
  {
   "cell_type": "markdown",
   "metadata": {},
   "source": [
    "**201**\\\n",
    "Vad innebär begreppen:\n",
    "\n",
    "a) modell\\\n",
    "**Svar:**\\\n",
    "En modell beskriver ett fenomen med matematiska uttryck.\\\n",
    "En sannolikhetsmodell beskriver fördelningen av resultaten av experimentet.\\\n",
    "'En modell ska återge väsentliga egenskaper utan att kopiera alla detaljer.'\\\n",
    "b) slumpförsök\\\n",
    "**Svar:** Ett försök med oförutsägbar utfall.\\\n",
    "c) utfallsrum\\\n",
    "**Svar:** slumpförsökets alla möjliga utfall.\\\n",
    "d) händelse\\\n",
    "**Svar:** 'En händelse är en delmängd av försökets utfallsrum'\\\n",
    "e) säker händelse\\\n",
    "**Svar:** Består av alla utfall i utfallsrummet.\\\n",
    "f) omöjlig händelse\\\n",
    "**Svar:** Består av inget utfall."
   ]
  },
  {
   "cell_type": "markdown",
   "metadata": {},
   "source": [
    "**202**\\\n",
    "Rita venndiagram"
   ]
  },
  {
   "cell_type": "markdown",
   "metadata": {},
   "source": [
    "**203**\\\n",
    "A,B och C är tre händelser, som kan inträffa i ett slumpförsök. Hur läser man följande uttryck:\n",
    "\n",
    "$\\begin{aligned}\n",
    "\\text{a)}& \\quad A\\cup B\\cup C& \\quad\\quad \\text{b)}& A\\cap B\\cap C\\\\\n",
    "\\text{c)}& \\quad A\\cap \\overline{B}\\cap\\overline{C}& \\text{d)}&\\overline{A}\\cap\\overline{B}\\cap\\overline{C}\n",
    "\\end{aligned}$"
   ]
  },
  {
   "cell_type": "markdown",
   "metadata": {},
   "source": [
    "**Svar:**\\\n",
    "a) Minst en av händelserna inträffar.\\\n",
    "b) Alla händelser inträffar samtidigt.\\\n",
    "c) Endast A inträffar.\\\n",
    "d) Ingen av händelserna."
   ]
  },
  {
   "cell_type": "markdown",
   "metadata": {},
   "source": [
    "**204**\\\n",
    "Försäljningen av en konserv en slumpmässig vald dag beskrivs så här:\n",
    "|Antal sålda kartonger|0|1|2|3|4|\n",
    "|-|-|-|-|-|-|\n",
    "|**Sannolikhet**|0.10|0.20|0.25|0.35|0.10|"
   ]
  },
  {
   "cell_type": "markdown",
   "metadata": {},
   "source": [
    "a) Undersök om detta är en möjlig uppsättning av elementarsannolikheter, dvs. om vilkoren på sidan 37 är uppfyllda.\n",
    "\n",
    "**Elementarsannolikhet definition**:\\\n",
    "$\\begin{aligned}\n",
    "\\text{1) }& Pr(e_i)\\geq 0\\\\\n",
    "\\text{2) }& \\displaystyle\\sum_{e_i\\in S}Pr(e_i)=1\n",
    "\\end{aligned}$\n",
    "\n",
    "**Svar:** Det är en möjlig uppsättning.\\\n",
    "$\\begin{aligned}\n",
    "&0.10+0.20+0.25+0.35+0.10=1\n",
    "\\end{aligned}$ "
   ]
  },
  {
   "cell_type": "markdown",
   "metadata": {},
   "source": [
    "b) Definiera följande händelser:\\\n",
    "&nbsp;A är händelsen att högst två kartonger säljs en slumpmässig vald dag.\\\n",
    "&nbsp;B är händelsen att två eller tre kartonger säljs en slumpmässig vald dag.\\\n",
    "Beräkna sannolikheterna för händelserna A och B.\n",
    "\n",
    "Sannolikheten för en händelse:\\\n",
    "$\\begin{aligned}\n",
    "&Pr(H)=\\displaystyle\\sum_{e_i\\in H}Pr(e_i)\\\\\n",
    "\\end{aligned}$\n",
    "\n",
    "**Svar:**\\\n",
    "$\\begin{aligned}\n",
    "Pr(A) =&\\displaystyle\\sum_{e_i\\in A}Pr(e_i)\\\\\n",
    "=& 0.10+0.20+0.25\\\\\n",
    "Pr(A)=&0.55\\\\\n",
    "\\\\\n",
    "Pr(B)=&\\displaystyle\\sum_{e_i\\in B}Pr(e_i)\\\\\n",
    "=& 0.25+0.35\\\\\n",
    "Pr(B)=&0.60\n",
    "\\end{aligned}$\n"
   ]
  },
  {
   "cell_type": "markdown",
   "metadata": {},
   "source": [
    "**205**\\\n",
    "Ett frågeformulär för marknadsundersökningar innehåller tre frågor. Varje fråga ska besvaras med 'ja' eller 'nej'. i en stor undersökning svarade 60 procent ja på alla tre frågorna, 20 procent svarade ja på två av dem och 10 procent svarafe ja på en fråga. Vad är sannolikheten att en slumpmässigt vald individ svarade ja på:\n",
    "\n",
    "|Ja svar:|0|1|2|3|\n",
    "|-|-|-|-|-|\n",
    "|Sannolikhet(%)|10|10|20|60|\n",
    "\n",
    "\n",
    "a) Ingen fråga\\\n",
    "**Svar:**\\\n",
    "0.1 eller 10%\\\n",
    "b) minst en fråga\\\n",
    "**Svar:**\\\n",
    "0.9 eller 90%\\\n",
    "c) högst två frågor\\\n",
    "**Svar:**\\\n",
    "0.4 eller 40%"
   ]
  },
  {
   "cell_type": "markdown",
   "metadata": {},
   "source": [
    "**206**\\\n",
    "I en julklappssäck finns sju hårde och fem mjuka paket. Lilla Mathilda väljer slumpmässigt fem paket, som hon försiktigt klämmer på. Vad är sannolikheten att två av paketen är hårda?\\\n",
    "**Svar:**\n",
    "\n",
    "|Paket typ:|hård|mjuk||total|\n",
    "|---|---|---|---|---|\n",
    "|Antal:|7|5|=|12|\n",
    "|urval|2|3|=|5|\n",
    "\n",
    "Antal möjliga utfall:\\\n",
    "$\\begin{aligned}\n",
    "\\binom{12}{5} = \\frac{12!}{5!*(12-5)!}=\\frac{12!}{5!*7!}=\\frac{12*11*10*9*8}{5*4*3*2*1} =792 \\text{ möjliga utfall}\n",
    "\\end{aligned}$"
   ]
  },
  {
   "cell_type": "code",
   "execution_count": 8,
   "metadata": {},
   "outputs": [
    {
     "data": {
      "text/plain": [
       "792.0"
      ]
     },
     "execution_count": 8,
     "metadata": {},
     "output_type": "execute_result"
    }
   ],
   "source": [
    "(12 * 11 * 10 * 9 * 8) / (5 * 4 * 3 * 2 * 1)"
   ]
  },
  {
   "cell_type": "markdown",
   "metadata": {},
   "source": [
    "Hårda:\\\n",
    "$\\begin{aligned}\n",
    "\\binom{7}{2}=\\frac{7!}{2!*(7-2)!}=\\frac{7*6}{2*1}=21\n",
    "\\end{aligned}$\n",
    "\n",
    "Mjuka:\\\n",
    "$\\begin{aligned}\n",
    "\\binom{5}{3}=\\frac{5!}{3!*(5-3)!}=\\frac{5*4*3}{3*2*1}=10\n",
    "\\end{aligned}$\n",
    "\n",
    "Två hårda paket:\\\n",
    "$\\begin{aligned}\n",
    "\\frac{\\binom{7}{2}*\\binom{5}{3}}{\\binom{12}{5}}=\\frac{21*10}{792}=\\frac{210}{792}\\approx{0.265}=27\\%\n",
    "\\end{aligned}$"
   ]
  },
  {
   "cell_type": "markdown",
   "metadata": {},
   "source": [
    "**207**\\\n",
    "I ett kylskåp finns fyra napoleonbakelser, tre knäckbakelser och en petit choux. Pehr väljer på måfå tre bakelser som han förtär till lunch.\n",
    "|bakelse:|napoleon|knäcke|petit||total|\n",
    "|---|---|---|---|---|---|\n",
    "|antal|4|3|1|=|8|\n",
    "\n",
    "a) Vad är sannolikheten att han äter en bakelse av varje sort?\\\n",
    "**Svar:**\n",
    "|bakelse:|napoleon|knäcke|petit||total|\n",
    "|---|---|---|---|---|---|\n",
    "|antal|4|3|1|=|8|\n",
    "|urval|1|1|1|=|3|\n",
    "\n",
    "Antal möjliga utfall:\\\n",
    "$\\begin{aligned}\n",
    "\\binom{8}{3}= \\frac{8!}{3!*(8-3)!}=\\frac{8!}{3!*5!}=\\frac{8*7*6}{3*2*1}=56\n",
    "\\end{aligned}$\n",
    "\n",
    "En av varje sort:\\\n",
    "$\\begin{aligned}\n",
    "&\\binom{4}{1}=4 \\quad,\\quad \\binom{3}{1}=3 \\quad,\\quad \\binom{1}{1}=1\\\\\n",
    "&4*3*1=12\\\\\n",
    "&\\frac{12}{56}\\approx{0.214}=21\\%\\text{ att han äter en av varje.}\n",
    "\\end{aligned}$"
   ]
  },
  {
   "cell_type": "markdown",
   "metadata": {},
   "source": [
    "b) Vad är sannolikheten att han äter tre bakelser av samma sort?\\\n",
    "**Svar:**\\\n",
    "Napoleon:\n",
    "|bakelse:|napoleon|knäcke|petit||total|\n",
    "|---|---|---|---|---|---|\n",
    "|antal|4|3|1|=|8|\n",
    "|urval|3|0|0|=|3|\n",
    "\n",
    "$\\begin{aligned}\n",
    "\\binom{4}{3} = \\frac{4!}{3!*1!}=4 \\quad:\\quad \\frac{4}{56}\\end{aligned}$\n",
    "\n",
    "Knäcke:\n",
    "|bakelse:|napoleon|knäcke|petit||total|\n",
    "|---|---|---|---|---|---|\n",
    "|antal|4|3|1|=|8|\n",
    "|urval|0|3|0|=|3|\n",
    "\n",
    "$\\begin{aligned}\n",
    "\\binom{3}{3} = 1 \\quad:\\quad \\frac{1}{56}\\end{aligned}$\n",
    "\n",
    "$\\begin{aligned}\n",
    "\\frac{4}{56}+\\frac{1}{56}=\\frac{4+1}{56}\\approx{0.089} \\approx{0.9}\\%\\end{aligned}$\n",
    "\n"
   ]
  },
  {
   "cell_type": "markdown",
   "metadata": {},
   "source": [
    "**208**\\\n",
    "A och B är två händelser. Vi känner:\\\n",
    "$Pr(A)=0.22 \\quad\\quad Pr(A\\cap B)=0.08 \\quad\\quad Pr(\\overline{A}\\cap B)=0.13$\\\n",
    "Bestäm $Pr(B)$ och $Pr(A\\cup B)$. (Ledning: Rita Venndiagram)\n",
    "\n",
    "**Svar:**\\\n",
    "$Pr(B)=0.13+0.08 = 0.21\\\\ Pr(A\\cup B)=0.22+0.13=0.35$\n"
   ]
  },
  {
   "cell_type": "code",
   "execution_count": 19,
   "metadata": {},
   "outputs": [
    {
     "data": {
      "text/plain": [
       "Text(0.5, 1.0, '208 Venndiagram')"
      ]
     },
     "execution_count": 19,
     "metadata": {},
     "output_type": "execute_result"
    },
    {
     "data": {
      "image/png": "[encoded data removed]",
      "text/plain": [
       "<Figure size 640x480 with 1 Axes>"
      ]
     },
     "metadata": {},
     "output_type": "display_data"
    }
   ],
   "source": [
    "venn2(subsets=(0.14, 0.13, 0.08), set_labels=(\"A\", \"B\"))\n",
    "plt.title(\"208 Venndiagram\")"
   ]
  },
  {
   "cell_type": "markdown",
   "metadata": {},
   "source": [
    "**209**\\\n",
    "Känd information:\n",
    "\n",
    "|Ja|fråga 1|fråga 2|fråga 1 & 2|\n",
    "|-|-|-|-|\n",
    "|procent|67%|52%|40%|\n",
    "\n",
    "Vad är sannoliketen att den valda personen:\\\n",
    "a) svarat ja på båda frågorna\\\n",
    "**Svar:**\\\n",
    "$A\\cap B = 40\\%$\n",
    "\n",
    "b) enbart svarat ja på den första frågan\\\n",
    "**Svar:**\\\n",
    "$A\\cup (A\\cap B) = 67\\%-40\\%=27\\%$\n",
    "\n",
    "c) svarat ja på exakt en av frågorna\\\n",
    "**Svar:**\\\n",
    "$(A\\cap\\overline{B})\\cup(\\overline{A}\\cap B)=27\\%+12\\%=39\\%$\n",
    "\n",
    "d) svarat ja på högst en av frågorna\\\n",
    "**Svar:**\\\n",
    "$39\\%+21\\%=60\\%$\n",
    "\n",
    "e) inte svarat ja på någon av frågorna\\\n",
    "**Svar:**\\\n",
    "$100\\%-79\\%=21\\%$\n",
    "\n",
    "f) svarat ja på minst en av frågorna\\\n",
    "**Svar:**\\\n",
    "$A \\cup B = 79\\%$"
   ]
  },
  {
   "cell_type": "markdown",
   "metadata": {},
   "source": [
    "**210**\\\n",
    "Fortsättning på **209**. Rita Venndiagram och beräkna sannolikheterna för följande händelser.\n",
    "\n",
    "a) $A\\cap B$\\\n",
    "**Svar:** Mängden av händelser i A och/eller B\n",
    "\n",
    "b)$A\\cap\\overline{B}$\\\n",
    "**Svar:** Mängden av händelser i endast A\n",
    "\n",
    "c)$(A\\cap\\overline{B})\\cup(\\overline{A}\\cap B)$\\\n",
    "**Svar:** Mängden av händelser i enbart A och enbart B\n",
    "\n",
    "d)$A\\cup B$\\\n",
    "**Svar:** Mängden av händelser i både A och B"
   ]
  },
  {
   "cell_type": "code",
   "execution_count": 47,
   "metadata": {},
   "outputs": [
    {
     "data": {
      "image/png": "[encoded data removed]",
      "text/plain": [
       "<Figure size 640x480 with 4 Axes>"
      ]
     },
     "metadata": {},
     "output_type": "display_data"
    }
   ],
   "source": [
    "fig, axs = plt.subplots(nrows=2, ncols=2, layout=\"constrained\")\n",
    "\n",
    "subset = [1, 1, 1]\n",
    "labels = [\"a)\", \"b)\", \"c)\", \"d)\"]\n",
    "\n",
    "\n",
    "def hide_labels(venn_diagram):\n",
    "    for idx, sub in enumerate(venn_diagram.subset_labels):\n",
    "        venn_diagram.subset_labels[idx].set_visible(False)\n",
    "\n",
    "\n",
    "# Uppgift a)\n",
    "axs[0][0].set_title(labels[0])\n",
    "vd = venn2(subsets=subset, ax=axs[0][0], set_colors=[\"r\", \"r\"])\n",
    "hide_labels(vd)\n",
    "c = venn2_circles(subsets=subset, ax=axs[0][0])\n",
    "\n",
    "# Uppgift b)\n",
    "axs[0][1].set_title(labels[1])\n",
    "vd = venn2(subsets=subset, ax=axs[0][1], set_colors=[\"r\", \"r\"])\n",
    "hide_labels(vd)\n",
    "vd.get_patch_by_id(\"01\").set_alpha(0)\n",
    "c = venn2_circles(subsets=subset, ax=axs[0][1])\n",
    "\n",
    "# Uppgift c)\n",
    "axs[1][0].set_title(labels[2])\n",
    "vd = venn2(subsets=subset, ax=axs[1][0], set_colors=[\"r\", \"r\"])\n",
    "hide_labels(vd)\n",
    "vd.get_patch_by_id(\"11\").set_alpha(0)\n",
    "c = venn2_circles(subsets=subset, ax=axs[1][0])\n",
    "\n",
    "# Uppgift d)\n",
    "axs[1][1].set_title(labels[2])\n",
    "vd = venn2(subsets=subset, ax=axs[1][1], set_colors=[\"r\", \"r\"])\n",
    "hide_labels(vd)\n",
    "vd.get_patch_by_id(\"10\").set_alpha(0)\n",
    "vd.get_patch_by_id(\"01\").set_alpha(0)\n",
    "vd.get_patch_by_id(\"11\").set_alpha(0.5)\n",
    "c = venn2_circles(subsets=subset, ax=axs[1][1])\n",
    "plt.show()"
   ]
  },
  {
   "cell_type": "markdown",
   "metadata": {},
   "source": [
    "**211**\\\n",
    "Soldater:\n",
    "|Förlorat|öra|öga|båda|\n",
    "|-|-|-|-|\n",
    "|procent|25|55|5|\n",
    "\n",
    "Vad är sannolikheten att en soldat varken förlorat ett öga eller ett öra?\n",
    "\n",
    "**Svar:**\\\n",
    "$20+5+50=75\\%$ har förlorat en kroppsdel\\\n",
    "$100\\%-75\\%=25\\%$ har varken förlorat ett öga eller öra."
   ]
  },
  {
   "cell_type": "markdown",
   "metadata": {},
   "source": [
    "**212**\\\n",
    "Adam och Beda äter lunch tillsammans. 12% är båda sena. \n",
    "\n",
    "|I tid|Adam|Beda|båda|\n",
    "|-|-|-|-|\n",
    "|procent|30||88|\n",
    "\n",
    "Vad är sannolikheten att enbart Beda kommer i tid?\\\n",
    "**Svar:**\\\n",
    "$88\\%-30\\%=58\\%$"
   ]
  },
  {
   "cell_type": "markdown",
   "metadata": {},
   "source": [
    "**213**\\\n",
    "Slumpmässigt väljer man en person som deltar i en föreläsning.\n",
    "|händelse||procent|\n",
    "|-|-|-|\n",
    "|A|valda personen är en kvinna|40|\n",
    "|B|valda personen har skägg|25|\n",
    "\n",
    "a) $A\\cap B$\\\n",
    "**Svar:** Sannolikheten är 0. \"A och B är disjunkta\"\n",
    "\n",
    "b) $A\\cup B$\\\n",
    "**Svar:** 65%. Händelse i A och/eller B.\n",
    "\n",
    "c) $\\overline{A}\\cap\\overline{B}$\\\n",
    "**Svar:** 100% - 65% = 35%. Personen är en man utan skägg.\n"
   ]
  },
  {
   "cell_type": "code",
   "execution_count": 90,
   "metadata": {},
   "outputs": [
    {
     "data": {
      "image/png": "[encoded data removed]",
      "text/plain": [
       "<Figure size 1000x400 with 3 Axes>"
      ]
     },
     "metadata": {},
     "output_type": "display_data"
    }
   ],
   "source": [
    "fig, axs = plt.subplots(nrows=1, ncols=3)\n",
    "fig.set_figwidth(10)\n",
    "fig.set_figheight(4)\n",
    "\n",
    "subset = [1, 1, 0]\n",
    "labels = [\"a)\", \"b)\", \"c)\"]\n",
    "\n",
    "\n",
    "def hide_labels(venn_diagram):\n",
    "    for idx, sub in enumerate(venn_diagram.subset_labels):\n",
    "        if venn_diagram.subset_labels[idx]!=None:\n",
    "            venn_diagram.subset_labels[idx].set_visible(False)\n",
    "\n",
    "\n",
    "# Uppgift a)\n",
    "axs[0].set_title(labels[0])\n",
    "vd = venn2(subsets=subset, ax=axs[0], set_colors=[\"r\", \"r\"])\n",
    "vd.get_patch_by_id(\"01\").set_alpha(0)\n",
    "vd.get_patch_by_id(\"10\").set_alpha(0)\n",
    "hide_labels(vd)\n",
    "c = venn2_circles(subsets=subset, ax=axs[0])\n",
    "\n",
    "# Uppgift b)\n",
    "axs[1].set_title(labels[1])\n",
    "vd = venn2(subsets=subset, ax=axs[1], set_colors=[\"r\", \"r\"])\n",
    "hide_labels(vd)\n",
    "c = venn2_circles(subsets=subset, ax=axs[1])\n",
    "\n",
    "# Uppgift c)\n",
    "axs[2].set_title(labels[2])\n",
    "axs[2].set_facecolor('#FAA0A0')\n",
    "vd = venn2(subsets=subset, ax=axs[2], set_colors=[\"w\", \"w\"],alpha=1)\n",
    "hide_labels(vd)\n",
    "c = venn2_circles(subsets=subset, ax=axs[2])\n",
    "axs[2].set_axis_on()\n",
    "\n",
    "\n",
    "\n",
    "plt.show()"
   ]
  },
  {
   "cell_type": "markdown",
   "metadata": {},
   "source": [
    "**214**\\\n",
    "20% blir arbetslösa. Av de arbetslösa är det 12% som inte kan betala tillbaks skulden.\\\n",
    "Hur stor är andelen?\n",
    "\n",
    "**Betingad Sannolikhet:**\\\n",
    "*Den betingade sannolikheten för händelsen A under förutsättning att händelsen B har inträffat är*\n",
    "\n",
    "$Pr(A|B)=\\frac{Pr(A\\cap B)}{Pr(B)}$\n",
    "\n",
    "\n",
    "**Svar:**\\\n",
    "$\\frac{0.12}{0.2}=0.6=60\\%$"
   ]
  },
  {
   "cell_type": "markdown",
   "metadata": {},
   "source": [
    "**215**\\\n",
    "Smörgåsätare på Sällskapets årsmöte:\n",
    "|Pålägg|ost|kaviar|båda|\n",
    "|-|-|-|-|\n",
    "|procent|45|35|15|\n",
    "\n",
    "Ost = A\\\n",
    "Kaviar = B\n",
    "\n",
    "a) Anta att den valda personen har ost på sin smörgås, vad är sannolikheten att kaviar också finns på smörgåsen?\\\n",
    "**Svar:**\n",
    "\n",
    "$\\frac{15}{45+15}=\\frac{15}{60}= 0.25=25\\%$\n",
    "\n",
    "\n",
    "b) Anta att den valda personen har kaviar på sin smörgås, vad är sannolikheten att ost också finns på smörgåsen?\\\n",
    "**Svar:**\n",
    "\n",
    "$\\frac{15}{35+15}=\\frac{15}{50}=0.3=30\\%$\n"
   ]
  },
  {
   "cell_type": "code",
   "execution_count": 96,
   "metadata": {},
   "outputs": [
    {
     "data": {
      "text/plain": [
       "0.35714285714285715"
      ]
     },
     "execution_count": 96,
     "metadata": {},
     "output_type": "execute_result"
    }
   ],
   "source": [
    "0.25/0.70"
   ]
  },
  {
   "cell_type": "markdown",
   "metadata": {},
   "source": [
    "**216**\\\n",
    "Bland statistiker har 40% glasögon och 55% skägg. 25% har både glasögon och skägg.\n",
    "\n",
    "Vad är sannolikheten att personen:\\\n",
    "a) har skägg om han har glasögon\\\n",
    "**Svar:**\\\n",
    "$\\frac{25}{40}=\\frac{25}{40}=0.625=62.5\\%$\n",
    "\n",
    "b) har både glasögon och skägg om vi vet att han har minst en av dessa egenskaper\\\n",
    "Har minst en av egenskaperna:\\\n",
    "$15+30+25=70\\%$\n",
    "\n",
    "Har både skägg och glasögon:\\\n",
    "$\\frac{25}{70}\\approx{0.357}\\approx{36}\\%$"
   ]
  },
  {
   "cell_type": "markdown",
   "metadata": {},
   "source": [
    "**217**\\\n",
    "I det gamla Egypten förekom en viss sjukdom hos kameler. 10 procent av alla kameler i Egypten hade denna sjukdom. En veterinär vars uppgift var att diagnostisera kameler, ställde med sannolikheten:\\\n",
    "  0.8 diagnosen sjuk, då en kamel var sjuk.\\\n",
    "  0.9 diagnosen frisk, då en kamel var frisk.\n",
    "\n",
    "Totalt sjuka kameler: 10%\\\n",
    "sjuk kamel med diagnos sjuk: 80%\\\n",
    "frisk kamel med diagnos frisk: 90%\n",
    "\n",
    "\n",
    "a) Vad var sannolikheten att en kamel fick diagnosen sjuk\\\n",
    "**Lösning:**\n",
    "\n",
    "$\\begin{aligned}\n",
    "&\\text{Sjuka kameler med diagnos sjuk }&= 0.1*0.8=0.08\\\\\n",
    "&\\text{Friska kameler med diagnos sjuk } &= 0.9*0.1=0.09\\end{aligned}$\\\n",
    "$0.1*0.8+0.9*0.1=0.17$\\\n",
    "**Svar:** Sannolikheten är 17%\n",
    "\n",
    "b) Vad var sannolikheten att en kamel med diagnosen sjuk verkligen var sjuk\\\n",
    "**Lösning:**\n",
    "\n",
    "$\\begin{aligned}\n",
    "\\frac{0.08}{0.17}\\approx{0.471}\n",
    "\\end{aligned}$\\\n",
    "**Svar:** Sannolikheten är 47%\n",
    "\n",
    "c) Vad var sannolikheten för feldiagnos\\\n",
    "**Svar:**\\\n",
    "Sjuk kamel med diagnos frisk: $0.1*0.2$\\\n",
    "Frisk kamel med diagnos sjuk: $0.9*0.1$\n",
    "\n",
    "$\\begin{aligned}\n",
    "0.1*0.2+0.9*0.1=0.11\n",
    "\\end{aligned}$\\\n",
    "Sannolikheten är 11%\n",
    "\n",
    "d) En annan veterinär ställde alltid diagnosen frisk. Därmed minskades risken för feldiagnos, enligt denne veterinär. Är detta påstående korrekt?\\\n",
    "**Svar:**\\\n",
    "Frisk kamel med diagnos frisk: $0.9*0.9$\\\n",
    "Sjuk kamel med diagnos frisk: $0.1*0.2$\n",
    "\n",
    "$\\begin{aligned}\n",
    "&0.9*0.9+0.1*0.2=0.83=\\text{ 83\\% fick diagnos frisk}\\\\\n",
    "&\\frac{0.81}{0.83}\\approx{0.976}\n",
    "\\end{aligned}$\n",
    "\n",
    "\n",
    "Påståendet stämmer:\\\n",
    "98% av kameler med diagnos frisk var faktiskt friska,\\\n",
    "47% av kameler med diagnos sjuk var faktiskt sjuka."
   ]
  },
  {
   "cell_type": "markdown",
   "metadata": {},
   "source": [
    "**218**\\\n",
    "A och B är två händelser.\\\n",
    "$Pr(A\\cup B)=0.88 \\quad\\quad Pr(A\\cap \\overline{B})=0.18 \\quad\\quad Pr(\\overline{A}\\cap B)=0.28$\n",
    "\n",
    "Är händelserna A och B oberoende? Undersök om $Pr(A\\cap B) = Pr(A)*Pr(B)$ och besvara frågan.\\\n",
    "**Lösning:**\n",
    "\n",
    "$\\begin{aligned}\n",
    "Pr(A\\cup B)&= Pr(A\\cap \\overline{B})+ Pr(\\overline{A}\\cap B)+Pr(A\\cap B)\\\\\n",
    "0.88&= 0.18+0.28+Pr(A\\cap B)\\\\\n",
    "Pr(A\\cap B) &= 0.88-0.46\\\\\n",
    "Pr(A\\cap B) &= 0.42\\\\\n",
    "\\\\\n",
    "Pr(A) &=0.18+0.42 = 0.60\\\\\n",
    "Pr(B) &=0.28+0.42 = 0.70\\\\\n",
    "\\\\\n",
    "Pr(A\\cap B) &= Pr(A)*Pr(B)\\\\\n",
    "0.42 &= 0.6*0.7\n",
    "\\end{aligned}$\n",
    "\n",
    "**Svar:** Händelserna A och B är oberoende."
   ]
  },
  {
   "cell_type": "markdown",
   "metadata": {},
   "source": [
    "**219**\\\n"
   ]
  },
  {
   "cell_type": "markdown",
   "metadata": {},
   "source": [
    "**225**\n",
    "Approximativ sannolikhet:\\\n",
    "\n",
    "a)\\\n",
    "$\\begin{aligned}\n",
    "&\\binom{100}{3}=161700\\\\\n",
    "&\\binom{20}{3}=1140\\\\\n",
    "&\\frac{\\binom{20}{1}*\\binom{80}{2}}{\\binom{100}{3}}=\\frac{20*3160}{161700}\\approx{0.391}\\end{aligned}$\n",
    "\n",
    "b)\n",
    "\n",
    "$\\begin{aligned}\n",
    "\\binom{3}{1}*0.2*0.8^2\\approx{0.384}\n",
    "\\end{aligned}$"
   ]
  },
  {
   "cell_type": "code",
   "execution_count": 114,
   "metadata": {},
   "outputs": [
    {
     "data": {
      "text/plain": [
       "0.3840000000000001"
      ]
     },
     "execution_count": 114,
     "metadata": {},
     "output_type": "execute_result"
    }
   ],
   "source": [
    "3 * 0.2 * 0.8 * 0.8"
   ]
  },
  {
   "cell_type": "markdown",
   "metadata": {},
   "source": [
    "## 3 Diskret Slumpvariabel"
   ]
  },
  {
   "cell_type": "markdown",
   "metadata": {},
   "source": [
    "### Inför 29/10-24 lektion:\n",
    "Denna frågan kommer ni diskutera i grupperna:\\\n",
    "Antag att du ser följande notation: P(X = x) = 0.4 . Hur tolkar du det rent generellt?\n",
    "\n",
    "**Uppgifter:**\n",
    "* 304\n",
    "* 306\n",
    "* 307, 309, 311, 313\n",
    "* 314\n",
    "* 317\n",
    "* 318\n"
   ]
  },
  {
   "cell_type": "markdown",
   "metadata": {},
   "source": [
    "**304**\\\n",
    "Antalet tryckfel på en slumpmässigt vald sida i en tjock lärobok i statistik dataanalys har följande sannolikhetsfördelning:\n",
    "|Antal tryckfel, *x*|0|1|2|\n",
    "|-|-|-|-|\n",
    "|**Sannolikhet,** *p(x)*|0.90|0.09|0.01|\n",
    "\n",
    "Bestäm väntevärdet och variansen för antelet tryckfel på en slumpmässigt vald sida.\\\n",
    "**Svar:**\n",
    "\n",
    "$\\begin{aligned}\n",
    "&\\text{Väntevärdet:}\\\\\n",
    "&E(X)=\\mu={\\large\\Sigma x*p(x)}=0*0.9+1*0.09+2*0.01=0.11\\\\\n",
    "\\\\\n",
    "&\\text{Variansen:}\\\\\n",
    "&Var(X)={\\large\\Sigma x^2*p(x)-\\mu^2}\\\\\n",
    "&Var(X) =(0^2*0.9+1^2*0.09+2^2*0.01)-0.11^2 = 0.13-0.0121 = 0.1179\n",
    "\\end{aligned}$"
   ]
  },
  {
   "cell_type": "markdown",
   "metadata": {},
   "source": [
    "**306**\\\n",
    "I en reseguide anges att dyngsmedeltemperaturen en viss månad har medelvärdet $\\mu = 12.0^\\circ C$ och standardavvikelsen $\\sigma = 3.5^\\circ C$. Vad är medelvärdet och standardavvikelsen uttryckt i Fahrenheit? ($F=1.8*C+32$)\\\n",
    "**Svar:**\n",
    "\n",
    "$\\begin{aligned}\n",
    "&\\text{Medelvärdet:}\\\\\n",
    "&\\mu_F=1.8*12+32 =21.6+32=53.6\\\\\n",
    "\\\\\n",
    "&\\text{Standardavvikelsen:}\\\\\n",
    "&\\sigma_F=1.8*3.5+32 =6.3+32=38.3\n",
    "\\end{aligned}$"
   ]
  },
  {
   "cell_type": "markdown",
   "metadata": {},
   "source": [
    "**307**\\\n",
    "Slumpvariabeln X är $Bi(n=12;\\pi=0.4)$ Bestäm med hjälp av tabell 1:\n",
    "\n",
    "$\\begin{aligned}\n",
    "\\text{a) }&Pr(X\\leq 6)\\\\\n",
    "&0.8418\\\\\n",
    "\\text{b) }&Pr(X<6)\\\\\n",
    "&0.6652\\\\\n",
    "\\text{c) }&Pr(X= 6)\\\\\n",
    "&0.8418-0.6652=0.1765\\\\\n",
    "\\text{d) }&Pr(X>6)&\\\\\n",
    "&1-0.8418=0.1582&\n",
    "\\end{aligned}$\n"
   ]
  },
  {
   "cell_type": "markdown",
   "metadata": {},
   "source": [
    "**309**\\\n",
    "En undersökning visar att en tredjedel av alla barn i förskoleåldern får huvudlöss. Slumpmässigt väljer vi tre barn.\\\n",
    "Vad är sannolikheten att exakt två av barnen får huvudlöss?\n",
    "\n",
    "**Svar:**\n",
    "\n",
    "$\\begin{aligned}\n",
    "&\\pi=\\frac{1}{3} \\quad\\quad, n=3\\\\\n",
    "&Pr(X=2)=\\binom{3}{2}*\\left(\\frac{1}{3}\\right)^2*\\left(\\frac{2}{3}\\right)=\\dfrac{6}{27} \\approx{0.22}\n",
    "\\end{aligned}$\n"
   ]
  },
  {
   "cell_type": "markdown",
   "metadata": {},
   "source": [
    "**311**\\\n",
    "Om en säljare ringer till en tänkbar kund är sannolikheten 40 procent att detta telefonsamtal inom en månad leder till en affärskontakt. Låt oss anta att säljaren har sexton sådana telefonsamtal och att X av detta leder till en affärskontakt.\n",
    "\n",
    "a) Vad är sannolikheten att ***mindre än*** hälften av dessa telefonsamtal leder till en affärskontakt?\\\n",
    "b) Vad är sannolikheten att ***mer än*** hälften av dessa telefonsamtal leder till en affärskontakt?\n",
    "\n",
    "X är $Bi(n=16;\\pi=40)$\n",
    "\n",
    "a) $Pr(X<8)=0.7161$\\\n",
    "b) $Pr(X>8)=1-0.8577\\approx{0.1423}$"
   ]
  },
  {
   "cell_type": "markdown",
   "metadata": {},
   "source": [
    "**313**\\\n",
    "30 procent av anmälda kommer inte på provet\\\n",
    "20 studenter har anmält sig\\\n",
    "Lokalen har 17 platser\\\n",
    "Vad är sannolikheten att lokalen inte kommer räcka till?\n",
    "\n",
    "$\\pi=0.7 \\quad,\\quad n=20$\\\n",
    "$Pr(X=17)$\\\n",
    "**Svar:**\n",
    "\n",
    "$\\begin{aligned}\n",
    "Pr(X\\geq 17)&=1-Pr(X=17)\\\\\n",
    "&=1-0.9645\\\\\n",
    "&\\boxed{\\approx{0.0355}}\\end{aligned}$\n"
   ]
  },
  {
   "cell_type": "markdown",
   "metadata": {},
   "source": [
    "**314**\\\n",
    "Slumpvariabeln X är $Po(\\mu=2.0)$ Bestäm med hjälp av tabell 2:\n",
    "\n",
    "$\\begin{aligned}\n",
    "\\text{a) }&Pr(X\\leq 4)\\\\\n",
    "&0.9473\\\\\n",
    "\\text{b) }&Pr(X<4)\\\\\n",
    "&0.8571\\\\\n",
    "\\text{c) }&Pr(X= 4)\\\\\n",
    "&Pr(X\\leq 4)-Pr(X<4)\\\\\n",
    "&0.9473-0.8571=0.0902\\\\\n",
    "\\text{d) }&Pr(X>4)&\\\\\n",
    "&1-0.9473\\approx{0.0527}&\n",
    "\\end{aligned}$"
   ]
  },
  {
   "cell_type": "markdown",
   "metadata": {},
   "source": [
    "**317**\\\n",
    "40 procent av väljare sympatiserar med det borgerliga blocket.\n",
    "\n",
    "**Svar:**\\\n",
    "a) Låt X vara antalet personer man väljer. Bestäm sannolikhetsfördelningen för denna slumpvariabel\\\n",
    "$\\begin{aligned}\n",
    "&Pr(X=x)=(x-\\pi)^{x-1}*\\pi\\\\\n",
    "&Pr(X=x)=0.6^{x-1}*0.4\n",
    "\\end{aligned}$\n",
    "\n",
    "b) Vad är sannolikheten att man måste välja exakt tre personer?\\\n",
    "$\\begin{aligned}\n",
    "Pr(X=3)&=0.6^{(3-1)}*0.4\\\\\n",
    "&=0.36*0.4\\\\\n",
    "&=0.144\n",
    "\\end{aligned}$\n",
    "\n",
    "c) Vad är väntevärdet för slumpvariabeln X?\\\n",
    "$\\begin{aligned}\n",
    "E(X)&=\\dfrac{1}{\\pi}=\\dfrac{1}{0.4}=2.5\n",
    "\\end{aligned}$"
   ]
  },
  {
   "cell_type": "code",
   "execution_count": 74,
   "metadata": {},
   "outputs": [
    {
     "data": {
      "text/plain": [
       "2.5"
      ]
     },
     "execution_count": 74,
     "metadata": {},
     "output_type": "execute_result"
    }
   ],
   "source": [
    "1/0.4"
   ]
  },
  {
   "cell_type": "markdown",
   "metadata": {},
   "source": [
    "**318**\\"
   ]
  },
  {
   "cell_type": "markdown",
   "metadata": {},
   "source": [
    "## 4 Tvådimensionell slumpvariabel"
   ]
  },
  {
   "cell_type": "markdown",
   "metadata": {},
   "source": [
    "### **401**\n",
    "Tabellen visar simultana sannolikhetsfördelningen *p(x, y)* för de båda slumpvariablerna X och Y.\n",
    "|y\\x|0|1|2|\n",
    "|-|-|-|-|\n",
    "|0|0.40|0.20|0.07|\n",
    "|1|0.15|0.09|0.02|\n",
    "|2|0.04|0.02|0.01|\n",
    "\n"
   ]
  },
  {
   "cell_type": "markdown",
   "metadata": {},
   "source": [
    "Bestäm\n",
    "\n",
    "a) p(x) och p(y)\n",
    "||0|1|2|p(y)|\n",
    "|-|-|-|-|-|\n",
    "|0|0.40|0.20|0.07|0.67|\n",
    "|1|0.15|0.09|0.02|0.26|\n",
    "|2|0.04|0.02|0.01|0.07|\n",
    "|p(x)|0.59|0.31|0.10|1|\n",
    "\n",
    "\\\n",
    "\\\n",
    "$\\begin{aligned}\n",
    "b) Var(Y)&, Väntevärdet\\\\\n",
    " Var(Y)&=E(Y^2)-[E(Y)^2]= \\Sigma y^2*p(y)- \\mu^2\\\\\n",
    " E(Y)&=0*0.67+1*0.26+2*0.07\\\\\n",
    " &=0.4\\\\\n",
    " E(Y)^2&=\\mu^2=0.4^2\\\\\n",
    " \\\\\n",
    " E(Y^2)&=0^2*0.67+1^2*0.26+2^2*0.07\\\\\n",
    " &=0.54\\\\\n",
    " \\\\\n",
    " Var(Y)&=0.54-0.4^2\\\\\n",
    " &=0.38\n",
    "\\end{aligned}$\n",
    "\n",
    "$\\begin{aligned}\n",
    "c) Pr(X+Y\\leq 2)& \\text{ summera sannolikheterna i tabellen om summan av X+Y högst blir 2}\\\\\n",
    "&=0.4+0.2+0.07+0.15+0.04+0.09\\\\\n",
    "Pr(X+Y\\leq 2)&=0.95\n",
    "\\end{aligned}$\n",
    "\n",
    "\\\n",
    "\\\n",
    "$d) p(x|Y = 1) \\text{ p(x) när raden där Y=1}$\n",
    "\n",
    "$\\begin{aligned}\n",
    "&Pr(A|B)=\\dfrac{Pr(A\\cap B)}{Pr(B)}=P(X=x|Y=1)=\\dfrac{P(X=x,Y=1)}{P(Y=1)}\n",
    "\\end{aligned}$\n",
    "|1|0.15|0.09|0.02|0.26|\n",
    "|-|-|-|-|-|\n",
    "|p(x\\|Y=1)|0.15/0.26|0.09/0.26|0.02/0.26|0.26/0.26=1|\n",
    "\n",
    "\\\n",
    "\\\n",
    "$\\begin{aligned}\n",
    "e) E(X|Y &= 1)\\\\\n",
    "E(X|Y&=1) = \\Sigma x*p(x|Y=1)\\\\\n",
    "&=\\left(0*\\frac{0.15}{0.26}\\right)+\\left(1*\\frac{0.09}{0.26}\\right)+\\left(2*\\frac{0.02}{0.26}\\right)\\\\\n",
    "&=0.5\n",
    "\\end{aligned}$\n",
    "\n",
    "\\\n",
    "\\\n",
    "$\\begin{aligned}\n",
    "f) Var(X|Y = 1)&\\\\\n",
    "E(X|Y=1)&=0.5\\\\\n",
    "E(X^2|Y=1)&=\\left(0^2*\\frac{0.15}{0.26}\\right)+\\left(1^2*\\frac{0.09}{0.26}\\right)+\\left(2^2*\\frac{0.02}{0.26}\\right)\\\\\n",
    "&=0.65\\\\\n",
    "Var(X|Y=1)&=0.65-0.5^2\\\\\n",
    "&=0.4\n",
    "\\end{aligned}$\n",
    "\n",
    "\\\n",
    "\\\n",
    "g) Är X och Y oberoende slumpvariabler?\\\n",
    "Slumpvariablerna är oberoende om produkten av p(x) och p(y) blir p(x,y).\\\n",
    "p(x) i detta fall:\\\n",
    "$\\begin{aligned}\n",
    "&p(x_1)=0.59 \\quad, p(x_2)=0.31 \\quad, p(x_3)=0.10\\\\\n",
    "&p(y_1)=0.67 \\quad, p(y_2)=0.26 \\quad, p(y_3)=0.07\\\\\n",
    "\\\\\n",
    "&p(x,y)=p(x)*p(y)\\\\\n",
    "&0.4\\not= 0.59*0.67\\\\\n",
    "&0.09\\not=0.31*0.26\n",
    "\\end{aligned}$\\\n",
    "Nej, de är beroende."
   ]
  },
  {
   "cell_type": "code",
   "execution_count": 5,
   "metadata": {},
   "outputs": [
    {
     "name": "stdout",
     "output_type": "stream",
     "text": [
      "0.54\n",
      "0.6538461538461539\n",
      "0.4\n"
     ]
    },
    {
     "data": {
      "text/plain": [
       "0.0806"
      ]
     },
     "execution_count": 5,
     "metadata": {},
     "output_type": "execute_result"
    }
   ],
   "source": [
    "print((0.26)+(4*0.07))\n",
    "\n",
    "print((0.09/0.26)+(4*(0.02/0.26)))\n",
    "print((0.65)-0.5**2)\n",
    "0.31*0.26"
   ]
  },
  {
   "cell_type": "markdown",
   "metadata": {},
   "source": [
    "### **402**\n",
    "En person äger två butiker. Tabellen visar efterfrågan (x = antal lådor) av en viss vara i en av dessa butiker en slumpmässigt vald dag:\n",
    "\n",
    "**Butik A**\n",
    "|x|0|1|2|3|\n",
    "|-|-|-|-|-|\n",
    "|p(x)|0.15|0.25|0.35|0.25|\n",
    "\n",
    "För den andra butiken beskrivs efterfrågan (y = antal lådor) av samma vara så här:\n",
    "\n",
    "**Butik B**\n",
    "|y|0|1|2|3|\n",
    "|-|-|-|-|-|\n",
    "|p(y)|0.10|0.40|0.30|0.20|\n",
    "\n",
    "Vi antar att efterfrågan i de två butikerna är oberoende variabler.\\\n",
    "a) Bestäm den simultana sannolikhetsfördelningen *p*(*x, y*).\\\n",
    "b) Bestäm den betingade fördelningen *p*(*x* | Y = 1). Hur vill du kommentera resultatet?"
   ]
  },
  {
   "cell_type": "markdown",
   "metadata": {},
   "source": [
    "**a) Svar:**\\\n",
    "$\\begin{aligned}\n",
    "p(x,y)=p(x)*p(y)\n",
    "\\end{aligned}$\n",
    "\n",
    "|x,y|0|1|2|3|p(y)|\n",
    "|:-:|:-:|:-:|:-:|:-:|:-:|\n",
    "|**0**|0.015|0.025|0.035|0.025|**0.10**|\n",
    "|**1**|0.06|0.1|0.14|0.1|**0.40**|\n",
    "|**2**|0.045|0.075|0.105|0.075|**0.30**|\n",
    "|**3**|0.03|0.05|0.07|0.05|**0.20**|\n",
    "|**p(x)**|**0.15**|**0.25**|**0.35**|**0.25**|**1**|"
   ]
  },
  {
   "cell_type": "code",
   "execution_count": 24,
   "metadata": {},
   "outputs": [
    {
     "name": "stdout",
     "output_type": "stream",
     "text": [
      "[[0.015 0.025 0.035 0.025]\n",
      " [0.06  0.1   0.14  0.1  ]\n",
      " [0.045 0.075 0.105 0.075]\n",
      " [0.03  0.05  0.07  0.05 ]]\n"
     ]
    }
   ],
   "source": [
    "x_arr = np.array([0.15, 0.25, 0.35, 0.25])\n",
    "y_arr = np.array([0.10, 0.40, 0.30, 0.20])\n",
    "xy=[]\n",
    "\n",
    "for y in y_arr:\n",
    "    for x in x_arr:\n",
    "        xy.append(x*y)\n",
    "        \n",
    "xy=np.array(xy).reshape([4,4])\n",
    "print(xy)\n"
   ]
  },
  {
   "cell_type": "markdown",
   "metadata": {},
   "source": [
    "**b) Svar:**\\\n",
    "$\\begin{aligned}\n",
    "&p(x|Y=1)= [0.06/0.40, 0.1/0.40, 0.14/0.40, 0.1/0.40]\\\\\n",
    "&p(x|Y=1)= [0.15, 0.25, 0.35, 0.25]\\\\\n",
    "\\end{aligned}$\n",
    "\n",
    "p(x|Y = 1) är alltså p(x) eftersom variablerna är oberoende.\\\n",
    "$p(x|Y=1)=p(x)$\n"
   ]
  },
  {
   "cell_type": "markdown",
   "metadata": {},
   "source": [
    "### **403**\n",
    "Tabellen visar den simultana sannolihetsfördelningen p(x,y) för variablerna X och Y.\n",
    "|x\\y|0|1|*p(y)*|\n",
    "|---|---|---|---|\n",
    "|**2**|1/4|0|1/4|\n",
    "|**3**|0|2/4|2/4|\n",
    "|**4**|1/4|0|1/4|\n",
    "|*p(x)*|2/4|2/4|1|\n",
    "\n",
    "a) Bestäm kovariansen mellan X och Y.\\\n",
    "b) Är variablerna oberoende?"
   ]
  },
  {
   "cell_type": "markdown",
   "metadata": {},
   "source": [
    "**a) Svar**\n",
    "\n",
    "***Beräkningsformel för kovariansen***\\\n",
    "$\\boxed{\\begin{aligned}\n",
    "&Cov(X,Y)=E(X*Y)-E(X)*E(Y)\\\\\n",
    "&E(X*Y)=\\sum \\large x*y*p(x,y)\\\\\n",
    "&E(X)=\\sum\\large x*p(x)\\\\\n",
    "&E(Y)=\\sum\\large y*p(y)\\\\\n",
    "\\end{aligned}}$\n",
    "\n",
    "\n",
    "$\\begin{aligned}\n",
    "E(X)&=0*\\frac{2}{4}+1*\\frac{2}{4}\\quad\\quad& E(Y)&=2*\\frac{1}{4}+3*\\frac{2}{4}+4*\\frac{1}{4}\\\\\n",
    "E(X)&=\\frac{2}{4} & E(Y)&=\\frac{2}{4}+\\frac{6}{4}+\\frac{4}{4}\\\\\n",
    "&&E(Y)&=\\frac{12}{4}\\\\\n",
    "E(X)&=\\boxed{0.5}&E(Y)&=\\boxed{3}\n",
    "\\end{aligned}$\n",
    "\n",
    "\n",
    "\n",
    "$\\begin{aligned}\n",
    "E(X*Y)=&\\left(0*2*\\frac{1}{4}\\right)+\\left(1*2*0\\right)+\\\\\n",
    "&\\left(0*3*0\\right)+\\left(1*3*\\frac{2}{4}\\right)+\\\\\n",
    "&\\left(0*4*\\frac{1}{4}\\right)+\\left(1*4*0\\right)\\\\\n",
    "=&\\left(1*3*\\frac{2}{4}\\right)=\\frac{6}{4}\\\\\n",
    "E(X*Y)=&\\boxed{1.5}\n",
    "\\end{aligned}$\n",
    "\n",
    "$\\begin{aligned}\n",
    "Cov(X,Y)&=\\\\\n",
    "&=1.5-(0.5*3)\\\\\n",
    "&=1.5-1.5\\\\\n",
    "Cov(X,Y)&=0\n",
    "\\end{aligned}$\n",
    "\n",
    "**b) Svar:**\\\n",
    "Variablerna är okorrelerade men inte oberoende.\\\n",
    "p(1,3)=2/4 inte är produkten av p($x_1$)=2/4 och p($y_3$)=2/4"
   ]
  },
  {
   "cell_type": "markdown",
   "metadata": {},
   "source": [
    "### **407**\n",
    "Antal tryckfel på en slumpmässigt vald sida i en tjock lärobok i statistisk dataanalys har följande sannolikhetsfördelning:\n",
    "|Antal tryckfel, x|0|1|2|\n",
    "|-|-|-|-|\n",
    "|**Sannolikhet,p(x)**|0.90|0.09|0.01|\n",
    "\n",
    "Bestäm väntevärdet och variansen för antalet tryckfel på två slumpmässigt valda sidor.\n",
    "\n",
    "$\\boxed{\\begin{aligned}\n",
    "&\\text{Formler}\\\\\n",
    "&Väntevärdet &\\quad &Varians\\\\\n",
    "&E(X)=\\sum\\large x*p(x)&\\quad &Var(X)=E(X^2)-E(X)^2\\\\\n",
    "\\end{aligned}}$\n",
    "\n",
    "**Svar:**\\\n",
    "$\\begin{aligned}\n",
    "E(X)&=\\sum\\large x*p(x)&E(X^2)&=\\sum\\large x^2*p(x)\\\\\n",
    "&=(0*0.90)+(1*0.09)+(2*0.01)&&=(0^2*0.90)+(1^2*0.09)+(2^2*0.01)\\\\\n",
    "&=0.09+0.02&&=0.09*0.04\\\\\n",
    "E(X)&=\\boxed{0.11}&E(X^2)&=\\boxed{0.13}\n",
    "\\end{aligned}$\n",
    "\n",
    "$\\begin{aligned}\n",
    "Var(X)&=E(X^2)-E(X)^2\\\\\n",
    "&=0.13-0.11^2\\\\\n",
    "&=0.13-0.0121\\\\\n",
    "Var(X)&=\\boxed{0.1179}\n",
    "\\end{aligned}$\n",
    "\n",
    "Variansen och väntevärdet:\\\n",
    "på en slumpmässigt vald sida är 0.11 och 0.1179.\\\n",
    "på två slumpmässigt valda sidor är därför 0.22 och 0.2358."
   ]
  },
  {
   "cell_type": "markdown",
   "metadata": {},
   "source": [
    "### **409**\n",
    "För en viss vara gäller antalet felaktiga enheter i en slumpmässigt vald förpackning är en slumpvariabel med väntevärdet fem och standardavvikelsen två. En låda innehåller tolv förpackningar. Beräkna väntevärdet och standardavvikelsen för antalet felaktiga enheter i en slumpmässigt vald låda. Ange de förutsättningar dina beräkningar bygger på.\n",
    "\n",
    "Känd info:\\\n",
    "För en förpackning:\\\n",
    "Väntevärde $\\mu$= 5, Standardavvikelse $\\sigma$ = 2\\\n",
    "En låda = 12 förpackningar\n",
    "\n",
    "**Svar:**\\\n",
    "Väntevärdet för 12 förpackningar\\\n",
    "$\\begin{aligned}\n",
    "E(X) &= E(X_1+X_2+X_3+...X_n)\\\\\n",
    "&=12*5\\\\\n",
    "&=\\boxed{60}\n",
    "\\end{aligned}$\n",
    "\n",
    "Standardavvikelsen för 12 förpackningar\\\n",
    "$\\begin{aligned}\n",
    "Var(X) &= Var(X_1+X_2+X_3+...X_n)\\\\\n",
    "Var(X)&=\\sigma^2=4\\\\\n",
    "&=12*4\\\\\n",
    "Var(X)&=48\\\\\n",
    "\\sigma&=\\sqrt{48}\\\\\n",
    "\\sigma&=\\boxed{6.9}\n",
    "\\end{aligned}$\n",
    "\n",
    "Jag antar att antalet felaktiga enheter är oberoende av varandra."
   ]
  },
  {
   "cell_type": "markdown",
   "metadata": {},
   "source": [
    "### **410**\n",
    "En försöksserie består av tre oberoende försök. Sannolikheten att ett försök lyckas första gången är 1/2."
   ]
  },
  {
   "cell_type": "markdown",
   "metadata": {},
   "source": [
    "## 5 Normalfördelning"
   ]
  },
  {
   "cell_type": "markdown",
   "metadata": {},
   "source": [
    "| **Header** | **Data** |\n",
    "|---|---|\n",
    "| Row 1 | Data 1 | \n",
    "| Row 2 | Data 2 |\n",
    "| Row 3 | Data 3 |"
   ]
  }
 ],
 "metadata": {
  "kernelspec": {
   "display_name": "myenv",
   "language": "python",
   "name": "python3"
  },
  "language_info": {
   "codemirror_mode": {
    "name": "ipython",
    "version": 3
   },
   "file_extension": ".py",
   "mimetype": "text/x-python",
   "name": "python",
   "nbconvert_exporter": "python",
   "pygments_lexer": "ipython3",
   "version": "3.12.6"
  }
 },
 "nbformat": 4,
 "nbformat_minor": 2
}
