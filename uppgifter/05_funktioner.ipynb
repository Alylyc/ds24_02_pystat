{
 "cells": [
  {
   "cell_type": "markdown",
   "id": "92b5c548-e8ea-4ce8-a138-b3343118191b",
   "metadata": {},
   "source": [
    "# Uppgifter, Kapitel 5 - Funktioner"
   ]
  },
  {
   "cell_type": "markdown",
   "id": "502784d2-d030-4e1d-8a09-b0b7e2814b63",
   "metadata": {},
   "source": [
    "1. Vad är funktioner för något? "
   ]
  },
  {
   "cell_type": "markdown",
   "id": "df6a5271-4242-494e-8b4a-b96ab1072e21",
   "metadata": {},
   "source": [
    "Det är en block kod som programmeraren själv kan skapa för specifika syften för att slippa skriva samma kod flera gånger. Genom att använda funktioner blir koden mer läsbar också. Det går också att skriva en hint om vad funktionen returnerar.\n",
    "Exempel på en inbyggda funktioner: print(), input(), type()"
   ]
  },
  {
   "cell_type": "markdown",
   "id": "f157afb8-a424-4ea6-a749-ad29f71265d6",
   "metadata": {},
   "source": [
    "2. Vad är parametrar och argument för något? "
   ]
  },
  {
   "cell_type": "markdown",
   "id": "a08d041d-bad2-42e7-bc33-8b6578994ac4",
   "metadata": {},
   "source": [
    "Parametrar och argument används i funktioner. \n",
    "Parameterar berättar vad funktionen behöver med skickat, och definieras när funktionen skapas. Det går att skicka med hints på vilken datatyp argumenten ska vara. Samt vad parametern har för standard värde om inget argument skickas med. \n",
    "def func(parameter, parameter:datatyp, parameter=värde)\n",
    "\n",
    "Argument är det måste skickas med när funktionen kallas. Antalet argument som skickas med ska för mesta del matcha antal parametrar, om inte parametrarna redan tilldelats värde.\n",
    "func(argument)"
   ]
  },
  {
   "cell_type": "markdown",
   "id": "f2b788f5-5052-43cb-9530-9d57c3aa8425",
   "metadata": {},
   "source": [
    "3. Skapa en funktion som heter \"uppercase_converter\". Funktionen skall ta en sträng som ett argument och returnera strängen med stora bokstäver (versaler). Exempel: uppercase_converter(\"hello\") skall returnera \"HELLO\"."
   ]
  },
  {
   "cell_type": "code",
   "execution_count": 12,
   "id": "69fd003d-4e6d-41bf-b70e-23f3694a6afe",
   "metadata": {},
   "outputs": [
    {
     "name": "stdout",
     "output_type": "stream",
     "text": [
      "HELLO\n"
     ]
    }
   ],
   "source": [
    "def uppercase_converter(string):\n",
    "    return string.upper()\n",
    "\n",
    "print(uppercase_converter(\"hello\"))\n"
   ]
  },
  {
   "cell_type": "markdown",
   "id": "60f2c868-0651-4b74-b1ec-fa193b970fc2",
   "metadata": {},
   "source": [
    "4. Skapa en funktion \"add_subtract_function\" som tar två argument och som resturnerar både summan och subtraktionen av de två talen i en tuple. Funktionen skall alltså returnera två resultat.\n",
    "   \n",
    "   Exempel: add_subtract_function(7, 3) skall returnera resultatet (10, 4). "
   ]
  },
  {
   "cell_type": "code",
   "execution_count": 5,
   "id": "4442d5c3-35be-4536-9c26-cb984588b93c",
   "metadata": {},
   "outputs": [
    {
     "name": "stdout",
     "output_type": "stream",
     "text": [
      "10\n"
     ]
    }
   ],
   "source": [
    "def add_subtract_function(x: int, y: int) -> tuple:\n",
    "    return x + y, x - y\n",
    "\n",
    "\n",
    "print(add_subtract_function(7, 3))"
   ]
  },
  {
   "cell_type": "markdown",
   "id": "504cae43-4001-4135-9cda-06430007768b",
   "metadata": {},
   "source": [
    "5. Skapa en funktion som innehåller minst en \"endast-positionsparameter\", minst en \"positions-eller-nyckelordsparameter\" samt minst en \"endast-nyckelordsparameter\". Ledning: f(pos_only, /, pos_or_kwd, *, kwd_only). "
   ]
  },
  {
   "cell_type": "code",
   "execution_count": null,
   "id": "bf6cd607-a4ea-4dbe-bd4d-097145763903",
   "metadata": {},
   "outputs": [],
   "source": []
  },
  {
   "cell_type": "markdown",
   "id": "3c54c834-bc82-49b7-8dad-57285e90a6a5",
   "metadata": {},
   "source": [
    "6. Förklara vad nedanstående kod gör. "
   ]
  },
  {
   "cell_type": "code",
   "execution_count": 14,
   "id": "86176bac-61f1-4bc4-9332-a85dcb226314",
   "metadata": {},
   "outputs": [
    {
     "data": {
      "text/plain": [
       "4.0"
      ]
     },
     "execution_count": 14,
     "metadata": {},
     "output_type": "execute_result"
    }
   ],
   "source": [
    "def my_sum_function(x1: int, x2: int) -> int:\n",
    "    return x1 + x2\n",
    "\n",
    "\n",
    "a = my_sum_function\n",
    "\n",
    "\n",
    "\n",
    "a(1.6, 2.4)"
   ]
  },
  {
   "cell_type": "markdown",
   "id": "53dfac2a-0f45-46e5-903a-ad93388475cd",
   "metadata": {},
   "source": [
    "my_sum_function() skapas med två parametrar x1, x2 returnerar dem sammanlagt. \n",
    "variabeln a sätts som funktionen. \n",
    "sist kallas a med argumenten 1,2 och det printas ut."
   ]
  },
  {
   "cell_type": "markdown",
   "id": "5fff27c2-3dcc-4e6c-a748-0322b4fbdf5f",
   "metadata": {},
   "source": [
    "7. Skriv en funktion som du kallar för \"add_or_multiply\". Funktionen \"add_or_multiply\" skall ta tre argument. De första två är tal medans det tredje specificierar huruvida du önskar addera eller multiplicera de två talen. Om användaren av funktionen varken specificerar \"add\" eller \"multiply\" som det tredje argumentet så skall meddeleandet \"Choose either \"add\" or \"multiply\". \"  printas ut. \n",
    "\n",
    "    Exempel: \n",
    "    \n",
    "    \"add_or_multiply(2, 5, \"add\") = 7\"\n",
    "    \n",
    "    \"add_or_multiply(2, 5, \"multiply\") = 10\"\n",
    "    \n",
    "    \"add_or_multiply(2, 5, \"Wrong\")\" skall printa ut meddelandet: Choose either \"add\" or \"multiply\". \n"
   ]
  },
  {
   "cell_type": "code",
   "execution_count": 9,
   "id": "f647a4d3-fff9-486d-84b5-504902f6bcef",
   "metadata": {},
   "outputs": [
    {
     "name": "stdout",
     "output_type": "stream",
     "text": [
      "7\n"
     ]
    }
   ],
   "source": [
    "def add_or_multiply(x: int, y: int, operator=\"\"):\n",
    "    result = 0\n",
    "    if operator == \"add\":\n",
    "        result = x + y\n",
    "    elif operator == \"multiply\":\n",
    "        result = x * y\n",
    "    else:\n",
    "        result = 'Choose either \"add\" or \"multiply\"'\n",
    "    return result\n",
    "\n",
    "print(add_or_multiply(2,5,'add'))"
   ]
  },
  {
   "cell_type": "markdown",
   "id": "f2b68363-ac11-4a0b-b25d-292b0ffaca60",
   "metadata": {},
   "source": [
    "8. Kör koden nedan och förklara vad som sker. "
   ]
  },
  {
   "cell_type": "code",
   "execution_count": null,
   "id": "491108e5-7182-47b5-ae21-45a0aa05c547",
   "metadata": {},
   "outputs": [],
   "source": [
    "name = input('What is your name dear stranger?')\n",
    "\n",
    "print('Mom, I met a person whos name is:', name)"
   ]
  },
  {
   "cell_type": "markdown",
   "id": "269fa898-e8ae-47e9-ad69-85b999ececcc",
   "metadata": {},
   "source": [
    "Koden körs och input() med argumentet 'What is your name dear stranger?' kommer upp. \n",
    "inputet sparas i variabeln name.\n",
    "sedan skrivs det ut 'Mom, I met a person whos name is: name'."
   ]
  }
 ],
 "metadata": {
  "kernelspec": {
   "display_name": "Python 3 (ipykernel)",
   "language": "python",
   "name": "python3"
  },
  "language_info": {
   "codemirror_mode": {
    "name": "ipython",
    "version": 3
   },
   "file_extension": ".py",
   "mimetype": "text/x-python",
   "name": "python",
   "nbconvert_exporter": "python",
   "pygments_lexer": "ipython3",
   "version": "3.12.6"
  }
 },
 "nbformat": 4,
 "nbformat_minor": 5
}
