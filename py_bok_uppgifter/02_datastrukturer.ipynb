{
 "cells": [
  {
   "cell_type": "markdown",
   "id": "23348587-e00d-4dc8-b603-8fdc12591b26",
   "metadata": {},
   "source": [
    "# Uppgifter, Kapitel 2 - Datatyper"
   ]
  },
  {
   "cell_type": "markdown",
   "id": "37c66520-507d-461b-b58d-a08e1538d5b8",
   "metadata": {},
   "source": [
    "1. Addera de två talen nedan och spara resultaten i en variabel som heter my_result. Printa ut variabeln my_result. "
   ]
  },
  {
   "cell_type": "code",
   "execution_count": 11,
   "id": "a2ab13de-93b7-42aa-abce-a06135ac9071",
   "metadata": {},
   "outputs": [],
   "source": [
    "num_1 = 5\n",
    "num_2 = 3"
   ]
  },
  {
   "cell_type": "code",
   "execution_count": 12,
   "id": "45cb66e2-d00c-4cb8-9183-c7959d959999",
   "metadata": {},
   "outputs": [
    {
     "data": {
      "text/plain": [
       "8"
      ]
     },
     "execution_count": 12,
     "metadata": {},
     "output_type": "execute_result"
    }
   ],
   "source": [
    "my_result = num_1 + num_2\n",
    "my_result"
   ]
  },
  {
   "cell_type": "markdown",
   "id": "83dc37e5-bc47-4906-9464-5f5de864d0d0",
   "metadata": {},
   "source": [
    "2. Multiplicera de två talen nedan och spara resultaten i en variabel som heter my_mult_result. Printa ut variabeln my_mult_result. "
   ]
  },
  {
   "cell_type": "code",
   "execution_count": 13,
   "id": "eb62bc41-035d-4ccc-9097-5d082c70b666",
   "metadata": {},
   "outputs": [],
   "source": [
    "number_1 = 10\n",
    "number_2 = 7"
   ]
  },
  {
   "cell_type": "code",
   "execution_count": 14,
   "id": "aa3e46d3-6988-4ab9-9359-46534b3ce0f5",
   "metadata": {},
   "outputs": [
    {
     "data": {
      "text/plain": [
       "70"
      ]
     },
     "execution_count": 14,
     "metadata": {},
     "output_type": "execute_result"
    }
   ],
   "source": [
    "my_mult_result = number_1 * number_2\n",
    "my_mult_result"
   ]
  },
  {
   "cell_type": "markdown",
   "id": "c4a16f43-8963-4bf6-83d6-52e36df7081e",
   "metadata": {},
   "source": [
    "3. Förklara vad nedanstående kod gör. "
   ]
  },
  {
   "cell_type": "code",
   "execution_count": 15,
   "id": "b5ed8d34-c950-42c1-a9da-871ce00917fd",
   "metadata": {},
   "outputs": [
    {
     "data": {
      "text/plain": [
       "1"
      ]
     },
     "execution_count": 15,
     "metadata": {},
     "output_type": "execute_result"
    }
   ],
   "source": [
    "10 % 3"
   ]
  },
  {
   "cell_type": "markdown",
   "id": "d20f1809",
   "metadata": {},
   "source": [
    "**Svar:** % kallas för modulo och returnerar rest från division."
   ]
  },
  {
   "cell_type": "markdown",
   "id": "b5b721c3-d135-41ad-bccf-53f2062010c7",
   "metadata": {},
   "source": [
    "4. Vi vet att 27/6 = 4.5. Förklara vad nedanstående kod gör. "
   ]
  },
  {
   "cell_type": "code",
   "execution_count": 16,
   "id": "9797eb95-7c95-4fdd-a96b-7937d97d1fa1",
   "metadata": {},
   "outputs": [
    {
     "data": {
      "text/plain": [
       "4"
      ]
     },
     "execution_count": 16,
     "metadata": {},
     "output_type": "execute_result"
    }
   ],
   "source": [
    "27//6"
   ]
  },
  {
   "cell_type": "markdown",
   "id": "4fa07743",
   "metadata": {},
   "source": [
    "**Svar:** // tar bort decimaltal från kvoten och returnerar den som ett heltal."
   ]
  },
  {
   "cell_type": "markdown",
   "id": "b09593a9-5a3c-4fa0-80c2-85517d3afe42",
   "metadata": {},
   "source": [
    "5. Vad är fel i nedanstående kod? Rätta till koden så det fungerar. "
   ]
  },
  {
   "cell_type": "code",
   "execution_count": 17,
   "id": "1facaabc-d723-406b-aae2-b415bff3841b",
   "metadata": {},
   "outputs": [
    {
     "ename": "SyntaxError",
     "evalue": "unterminated string literal (detected at line 1) (3763140116.py, line 1)",
     "output_type": "error",
     "traceback": [
      "\u001b[1;36m  Cell \u001b[1;32mIn[17], line 1\u001b[1;36m\u001b[0m\n\u001b[1;33m    print('it's fun to learn Python!')\u001b[0m\n\u001b[1;37m                                    ^\u001b[0m\n\u001b[1;31mSyntaxError\u001b[0m\u001b[1;31m:\u001b[0m unterminated string literal (detected at line 1)\n"
     ]
    }
   ],
   "source": [
    "print('it's fun to learn Python!')"
   ]
  },
  {
   "cell_type": "markdown",
   "id": "be9a1d2c",
   "metadata": {},
   "source": [
    "**Svar:** En string skrivs mellan citattecken. Det kan vara enkla ' ' eller dubbla \" \".\\\n",
    "Ovanstående kod använder ' ' för strings. Det blir därför fel när ' också används som en apostrof.\n",
    "\n",
    "**Rättning:**"
   ]
  },
  {
   "cell_type": "code",
   "execution_count": 18,
   "id": "f83379c3-d54b-4ea2-9a36-dbe8f23dbb75",
   "metadata": {},
   "outputs": [
    {
     "name": "stdout",
     "output_type": "stream",
     "text": [
      "it's fun to learn Python!\n",
      "it's fun to learn Python\n"
     ]
    }
   ],
   "source": [
    "print(\"it's fun to learn Python!\")\n",
    "print('it\\'s fun to learn Python')"
   ]
  },
  {
   "cell_type": "markdown",
   "id": "f76f7559-5898-4d11-ac9a-6efa10834993",
   "metadata": {
    "jp-MarkdownHeadingCollapsed": true
   },
   "source": [
    "6. Vad gör nedanstående kod? "
   ]
  },
  {
   "cell_type": "code",
   "execution_count": 19,
   "id": "e083b183-259a-4d3c-8309-d1f93c22c422",
   "metadata": {},
   "outputs": [
    {
     "name": "stdout",
     "output_type": "stream",
     "text": [
      "hahahahahahahahahaha\n"
     ]
    }
   ],
   "source": [
    "print(\"ha\"*10)"
   ]
  },
  {
   "cell_type": "markdown",
   "id": "8229d1e2",
   "metadata": {},
   "source": [
    "**Svar:** Skriver ut strängen 10 gångner"
   ]
  },
  {
   "cell_type": "markdown",
   "id": "b393b9bc-f76b-4455-b02e-39b1f7506234",
   "metadata": {},
   "source": [
    "7. Extrahera namnet \"Anna\" från strängen nedan genom att göra en \"slice\". "
   ]
  },
  {
   "cell_type": "code",
   "execution_count": 20,
   "id": "4a45eccc-f5cc-479a-9a90-4859a0087f76",
   "metadata": {},
   "outputs": [],
   "source": [
    "full_name = \"Anna Andersson\""
   ]
  },
  {
   "cell_type": "code",
   "execution_count": 21,
   "id": "45b66823-c893-458c-9781-75bed3af3016",
   "metadata": {},
   "outputs": [
    {
     "data": {
      "text/plain": [
       "'Anna'"
      ]
     },
     "execution_count": 21,
     "metadata": {},
     "output_type": "execute_result"
    }
   ],
   "source": [
    "full_name[0:4]"
   ]
  },
  {
   "cell_type": "markdown",
   "id": "8dc3e6bc-ae51-48d7-a274-1a17796d2809",
   "metadata": {},
   "source": [
    "8. Hur många tecken har strängen nedan? Använd len() funktionen. "
   ]
  },
  {
   "cell_type": "code",
   "execution_count": 22,
   "id": "844d00da-5756-495b-ad9b-924797666cb2",
   "metadata": {},
   "outputs": [],
   "source": [
    "full_name = \"Anna Andersson\""
   ]
  },
  {
   "cell_type": "code",
   "execution_count": 23,
   "id": "fdc56b51-08fc-41d8-854a-ad3d40f49fad",
   "metadata": {},
   "outputs": [
    {
     "data": {
      "text/plain": [
       "14"
      ]
     },
     "execution_count": 23,
     "metadata": {},
     "output_type": "execute_result"
    }
   ],
   "source": [
    "len(full_name)"
   ]
  },
  {
   "cell_type": "code",
   "execution_count": 24,
   "id": "10bfd448-94e3-4b32-897e-271ce56522f7",
   "metadata": {},
   "outputs": [],
   "source": [
    "names = [\"Anna Andersson-Johansson\", \"Erik Persson\", \"Johanna Eklund\"]"
   ]
  },
  {
   "cell_type": "code",
   "execution_count": 25,
   "id": "f896a92a-188f-4f6e-8684-982746d80131",
   "metadata": {},
   "outputs": [
    {
     "name": "stdout",
     "output_type": "stream",
     "text": [
      "Anna\n",
      "Erik\n",
      "Johanna\n"
     ]
    }
   ],
   "source": [
    "for name in names:\n",
    "    print(name.split()[0])"
   ]
  },
  {
   "cell_type": "markdown",
   "id": "8e877007-f018-4137-be93-0bc861d29867",
   "metadata": {},
   "source": [
    "9. a) Genom att använda en f-string med de två variablerna \"founder\" och \"language\", printa ut texten \"Hello Guido, Python is really fun to learn!\"\n",
    "    \n",
    "   b) Du vill nu skriva ut hela namnet \"Guido van Rossum\" så texten blir \"Hello Guido van Rossum, Python is really fun to learn!\", gör det genom att ändra namnet i variabeln founder och exekvera din f-string på nytt. "
   ]
  },
  {
   "cell_type": "code",
   "execution_count": 26,
   "id": "deddc199-0147-4598-b2cc-9e82dee75aac",
   "metadata": {},
   "outputs": [],
   "source": [
    "founder = \"Guido\"\n",
    "language = \"Python\""
   ]
  },
  {
   "cell_type": "code",
   "execution_count": 27,
   "id": "6a1eaebd-6dfc-48f9-b10c-c23578d12c06",
   "metadata": {},
   "outputs": [
    {
     "name": "stdout",
     "output_type": "stream",
     "text": [
      "Hello Guido, Python is really fun to learn!\n"
     ]
    }
   ],
   "source": [
    "print(f'Hello {founder}, {language} is really fun to learn!')"
   ]
  },
  {
   "cell_type": "code",
   "execution_count": 28,
   "id": "b90341f2-1018-4149-9fb2-0151aaa900db",
   "metadata": {},
   "outputs": [],
   "source": [
    "founder = \"Guido Van Rossum\""
   ]
  },
  {
   "cell_type": "code",
   "execution_count": 29,
   "id": "3c228305-b2fa-4f9f-be36-585d6948b4d6",
   "metadata": {},
   "outputs": [
    {
     "name": "stdout",
     "output_type": "stream",
     "text": [
      "Hello Guido Van Rossum, Python is really fun to learn!\n"
     ]
    }
   ],
   "source": [
    "print(f'Hello {founder}, {language} is really fun to learn!')"
   ]
  },
  {
   "cell_type": "markdown",
   "id": "f17c4485-d36d-42f0-900e-3d42cca59697",
   "metadata": {},
   "source": [
    "10. Varför blir koden nedan fel? "
   ]
  },
  {
   "cell_type": "code",
   "execution_count": 30,
   "id": "8feefe39-38ee-4549-b868-6f5c70ff8aab",
   "metadata": {},
   "outputs": [],
   "source": [
    "my_first_tuple = (10, 5, 'hi', 3)"
   ]
  },
  {
   "cell_type": "code",
   "execution_count": 31,
   "id": "d62f9cf5-1210-4fb2-9046-24a77445b654",
   "metadata": {},
   "outputs": [
    {
     "ename": "TypeError",
     "evalue": "'tuple' object does not support item assignment",
     "output_type": "error",
     "traceback": [
      "\u001b[1;31m---------------------------------------------------------------------------\u001b[0m",
      "\u001b[1;31mTypeError\u001b[0m                                 Traceback (most recent call last)",
      "Cell \u001b[1;32mIn[31], line 1\u001b[0m\n\u001b[1;32m----> 1\u001b[0m \u001b[43mmy_first_tuple\u001b[49m\u001b[43m[\u001b[49m\u001b[38;5;241;43m1\u001b[39;49m\u001b[43m]\u001b[49m \u001b[38;5;241m=\u001b[39m \u001b[38;5;241m10\u001b[39m\n",
      "\u001b[1;31mTypeError\u001b[0m: 'tuple' object does not support item assignment"
     ]
    }
   ],
   "source": [
    "my_first_tuple[1] = 10"
   ]
  },
  {
   "cell_type": "markdown",
   "id": "ccda9480",
   "metadata": {},
   "source": [
    "**Svar:** Koden försöker ändra ett element i en tuple, vilket inte är möjligt. Tuples är immutable: går ej att ändra efter att de blivit skapade."
   ]
  },
  {
   "cell_type": "code",
   "execution_count": 32,
   "id": "8652bd32-80d5-4533-8105-08fd26caae60",
   "metadata": {},
   "outputs": [],
   "source": [
    "my_list = list(my_first_tuple)"
   ]
  },
  {
   "cell_type": "code",
   "execution_count": 33,
   "id": "34372c5b-12aa-40c9-bec4-a0194e1d2061",
   "metadata": {},
   "outputs": [],
   "source": [
    "my_list[1] = 10"
   ]
  },
  {
   "cell_type": "code",
   "execution_count": 34,
   "id": "e411ad39-7017-4878-a227-0cfd6fa41af5",
   "metadata": {},
   "outputs": [
    {
     "data": {
      "text/plain": [
       "[10, 10, 'hi', 3]"
      ]
     },
     "execution_count": 34,
     "metadata": {},
     "output_type": "execute_result"
    }
   ],
   "source": [
    "my_list"
   ]
  },
  {
   "cell_type": "markdown",
   "id": "9c5ba939-3b0f-4bd8-a4db-6a3f00a5f301",
   "metadata": {},
   "source": [
    "11. Vad gör koden nedan? "
   ]
  },
  {
   "cell_type": "code",
   "execution_count": 35,
   "id": "5593f11a-d9c1-48f0-98fc-95c1e0cd2ff5",
   "metadata": {},
   "outputs": [],
   "source": [
    "my_tuple = ('languages', ['Python', 'Java', 'C', 'R'], 'apples')"
   ]
  },
  {
   "cell_type": "code",
   "execution_count": 36,
   "id": "f514084a-d83f-457b-ad48-c7bc97dc9a5b",
   "metadata": {},
   "outputs": [
    {
     "name": "stdout",
     "output_type": "stream",
     "text": [
      "languages\n",
      "apples\n",
      "C\n"
     ]
    }
   ],
   "source": [
    "print(my_tuple[0])\n",
    "print(my_tuple[-1])\n",
    "print(my_tuple[1][2])"
   ]
  },
  {
   "cell_type": "markdown",
   "id": "ff98a298",
   "metadata": {},
   "source": [
    "**Svar:** printar tuple element.\\\n",
    "my_tuple[0] är elementet i index 0\\\n",
    "my_tuple[-1] är det sista elementet\\\n",
    "my_tuple[1][2] är elementet i index 1, eftersom det är en slags array är [2] elementet i arrayens index 2."
   ]
  },
  {
   "cell_type": "markdown",
   "id": "4e35f734-7f04-48c3-94c9-9b61b8765c80",
   "metadata": {},
   "source": [
    "12. Kolla på vilken typ variabeln \"my_tuple\" har genom att använda type() funktionen. "
   ]
  },
  {
   "cell_type": "code",
   "execution_count": 37,
   "id": "dd5d2b45-cf14-4d64-8b46-e7ee584952e8",
   "metadata": {},
   "outputs": [],
   "source": [
    "my_tuple = ('languages', ['Python', 'Java', 'C', 'R'], 'apples')"
   ]
  },
  {
   "cell_type": "code",
   "execution_count": 38,
   "id": "adae2b5c-5042-421e-bb57-87d36f699f63",
   "metadata": {},
   "outputs": [
    {
     "data": {
      "text/plain": [
       "tuple"
      ]
     },
     "execution_count": 38,
     "metadata": {},
     "output_type": "execute_result"
    }
   ],
   "source": [
    "type(my_tuple)"
   ]
  },
  {
   "cell_type": "markdown",
   "id": "7dad53ee-36ae-4a10-bbd8-5d4e1e038288",
   "metadata": {},
   "source": [
    "13. Vad gör koden nedan? "
   ]
  },
  {
   "cell_type": "code",
   "execution_count": 39,
   "id": "e7eb9381-edd0-4b6b-8ee5-721c8bdf1045",
   "metadata": {},
   "outputs": [],
   "source": [
    "my_first_list = [10, 5, 'hi', 3]"
   ]
  },
  {
   "cell_type": "code",
   "execution_count": 40,
   "id": "ac7db3c9-e3bc-4b62-8884-0614b8300826",
   "metadata": {},
   "outputs": [],
   "source": [
    "my_first_list[1] = 7"
   ]
  },
  {
   "cell_type": "code",
   "execution_count": 41,
   "id": "c487f0e9-c92e-47b4-aa64-11ccd698fe2d",
   "metadata": {},
   "outputs": [
    {
     "data": {
      "text/plain": [
       "[10, 7, 'hi', 3]"
      ]
     },
     "execution_count": 41,
     "metadata": {},
     "output_type": "execute_result"
    }
   ],
   "source": [
    "my_first_list"
   ]
  },
  {
   "cell_type": "markdown",
   "id": "e1e3bf33-cd68-4a4c-b144-bfccfd7ae194",
   "metadata": {},
   "source": [
    "**Svar:**\n",
    "1. Skapar en lista med 10, 5, 'hi' och 3 som element.\n",
    "2. Ändrar elementet på index 1 till 7\n",
    "3. Printar listan"
   ]
  },
  {
   "cell_type": "markdown",
   "id": "a78c8611-1861-43c3-849c-de99d89ec3a5",
   "metadata": {},
   "source": [
    "14. Se vilken typ variabeln \"my_first_list\" har genom att använda type() funktionen. "
   ]
  },
  {
   "cell_type": "code",
   "execution_count": 42,
   "id": "4f065703-0e14-4a97-b612-d26c9f902848",
   "metadata": {},
   "outputs": [],
   "source": [
    "my_first_list = [10, 5, 'hi', 3]"
   ]
  },
  {
   "cell_type": "code",
   "execution_count": 43,
   "id": "cdd4b519-db15-4426-9de0-8ab170e3d7bb",
   "metadata": {},
   "outputs": [
    {
     "data": {
      "text/plain": [
       "list"
      ]
     },
     "execution_count": 43,
     "metadata": {},
     "output_type": "execute_result"
    }
   ],
   "source": [
    "type(my_first_list)"
   ]
  },
  {
   "cell_type": "markdown",
   "id": "f5e97d6a-d395-4fe7-b7ca-f50745ce5788",
   "metadata": {},
   "source": [
    "15. Beräkna antalet element i variabeln \"shopping_list\" genom att använda len() funktionen. "
   ]
  },
  {
   "cell_type": "code",
   "execution_count": 44,
   "id": "a53f5a80-5597-4d8d-a78b-6ec2526712a1",
   "metadata": {},
   "outputs": [],
   "source": [
    "shopping_list = ['apple', 'banana', 'grapes', 'eggs', 'milk']"
   ]
  },
  {
   "cell_type": "code",
   "execution_count": 45,
   "id": "6717cb74-2908-4567-874f-ecbf74f58f2c",
   "metadata": {},
   "outputs": [
    {
     "data": {
      "text/plain": [
       "5"
      ]
     },
     "execution_count": 45,
     "metadata": {},
     "output_type": "execute_result"
    }
   ],
   "source": [
    "len(shopping_list)"
   ]
  },
  {
   "cell_type": "markdown",
   "id": "70028e40-117b-4a1e-be20-a40737a4d5f3",
   "metadata": {},
   "source": [
    "16. Vi glömde att lägga till bröd (\"bread\" på engelska) i vår shopping lista. Gör det genom att använda append() metoden och printa ut den nya shopping listan. "
   ]
  },
  {
   "cell_type": "code",
   "execution_count": 46,
   "id": "a5cdb82d-84cf-4b39-a81c-eae88d2510dd",
   "metadata": {},
   "outputs": [],
   "source": [
    "shopping_list = ['apple', 'banana', 'grapes', 'eggs', 'milk']"
   ]
  },
  {
   "cell_type": "code",
   "execution_count": 47,
   "id": "1ad13ec7-d711-4885-bbd1-a7f400ca463e",
   "metadata": {},
   "outputs": [
    {
     "data": {
      "text/plain": [
       "['apple', 'banana', 'grapes', 'eggs', 'milk', 'bread']"
      ]
     },
     "execution_count": 47,
     "metadata": {},
     "output_type": "execute_result"
    }
   ],
   "source": [
    "shopping_list.append('bread')\n",
    "shopping_list"
   ]
  },
  {
   "cell_type": "markdown",
   "id": "61b2971a-7e1a-4f73-8d54-a867336fd62d",
   "metadata": {},
   "source": [
    "17. Beräkna antalet gånger siffran 7 finns i listan \"my_numbers\". Använd count() metoden."
   ]
  },
  {
   "cell_type": "code",
   "execution_count": 48,
   "id": "43201e79-9440-4c4f-8382-db81b3d1d5f2",
   "metadata": {},
   "outputs": [],
   "source": [
    "my_numbers = [1, 7, 2, 7, 10, 7]"
   ]
  },
  {
   "cell_type": "code",
   "execution_count": 49,
   "id": "c6169511-5ea6-4b46-b4ed-20b0bc69a25e",
   "metadata": {},
   "outputs": [
    {
     "data": {
      "text/plain": [
       "3"
      ]
     },
     "execution_count": 49,
     "metadata": {},
     "output_type": "execute_result"
    }
   ],
   "source": [
    "my_numbers.count(7)"
   ]
  },
  {
   "cell_type": "markdown",
   "id": "ecf53b6c-8862-435c-a863-a4e91208e312",
   "metadata": {},
   "source": [
    "18. Konvertera \"one_tuple\" till en lista och spara det i en variabel som heter \"one_list\". "
   ]
  },
  {
   "cell_type": "code",
   "execution_count": 50,
   "id": "ac2502db-ef2e-4a8b-bc0b-f152284de5ed",
   "metadata": {},
   "outputs": [],
   "source": [
    "one_tuple = (10, 5, 3)"
   ]
  },
  {
   "cell_type": "code",
   "execution_count": 51,
   "id": "f9bf7be8-2e71-4486-8c5a-dc4819b7f728",
   "metadata": {},
   "outputs": [
    {
     "data": {
      "text/plain": [
       "[10, 5, 3]"
      ]
     },
     "execution_count": 51,
     "metadata": {},
     "output_type": "execute_result"
    }
   ],
   "source": [
    "one_list = list(one_tuple)\n",
    "one_list"
   ]
  },
  {
   "cell_type": "markdown",
   "id": "a8a5adfb-ee63-4b53-bfc4-11b88dc3125b",
   "metadata": {},
   "source": [
    "19. Vad gör nedanstående kod? "
   ]
  },
  {
   "cell_type": "code",
   "execution_count": 52,
   "id": "b777a396-0ecb-4eb5-bd7a-f56d5dd22076",
   "metadata": {},
   "outputs": [],
   "source": [
    "my_first_dict = {'Anna': 38, 'Goran': 19, 'Lennart': 59, 'Halimah': 28} "
   ]
  },
  {
   "cell_type": "code",
   "execution_count": 53,
   "id": "2109a6c9-9a2a-40c1-bfdd-c9b0058aad95",
   "metadata": {},
   "outputs": [
    {
     "data": {
      "text/plain": [
       "19"
      ]
     },
     "execution_count": 53,
     "metadata": {},
     "output_type": "execute_result"
    }
   ],
   "source": [
    "my_first_dict['Goran']"
   ]
  },
  {
   "cell_type": "markdown",
   "id": "a2d67892-9758-4753-84b6-a87e62e6c6ee",
   "metadata": {},
   "source": [
    "**Svar:** my_first_dict är en dictionary object. \n",
    "1. my_first_dict skapas med förnamn som 'nycklar' med ett tal/ålder kopplat till respektive.\n",
    "2. Printar värdet som är kopplat till Goran nyckeln"
   ]
  },
  {
   "cell_type": "markdown",
   "id": "b7f85c21-7e31-4505-af1b-8868c4f2b25a",
   "metadata": {},
   "source": [
    "20. Kolla på vilken typ variabeln \"my_first_dict\" har genom att använda type() funktionen. "
   ]
  },
  {
   "cell_type": "code",
   "execution_count": 54,
   "id": "0312809b-9feb-4cdc-819f-fcb2caccb6b6",
   "metadata": {},
   "outputs": [
    {
     "data": {
      "text/plain": [
       "dict"
      ]
     },
     "execution_count": 54,
     "metadata": {},
     "output_type": "execute_result"
    }
   ],
   "source": [
    "type(my_first_dict)"
   ]
  },
  {
   "cell_type": "markdown",
   "id": "41f2c638-7185-46a3-b0cf-42a529ba44e9",
   "metadata": {},
   "source": [
    "21. Varför printas element 5 endast ut en gång i koden nedan?"
   ]
  },
  {
   "cell_type": "code",
   "execution_count": 55,
   "id": "397c0683-56ec-4e7a-9463-96a6a14c5266",
   "metadata": {},
   "outputs": [
    {
     "name": "stdout",
     "output_type": "stream",
     "text": [
      "{10, 2, 5}\n"
     ]
    }
   ],
   "source": [
    "my_set = {10, 5, 2, 5, 5} \n",
    "print(my_set)"
   ]
  },
  {
   "cell_type": "markdown",
   "id": "6464160d-8e31-4924-bae7-833e1307e550",
   "metadata": {},
   "source": [
    "**Svar:** 5 printas endast ut en gång eftersom dubletter inte är tillåtna i set."
   ]
  },
  {
   "cell_type": "markdown",
   "id": "503b662c-9695-4d0c-8542-1be01e94ed6a",
   "metadata": {},
   "source": [
    "22. Vi har definierat de två mängderna A och B nedan. \n",
    "\n",
    "a) Hitta alla element som är i både A och B. Använd intersection() metoden. \n",
    "\n",
    "b) Hitta alla element som är i A och/eller B. Använd union() metoden. \n",
    "\n",
    "c) Hitta alla element som är i A men inte i B. Använd difference() metoden. "
   ]
  },
  {
   "cell_type": "code",
   "execution_count": 56,
   "id": "4a32d0b4-aba0-4258-a3c8-b34cde69bc39",
   "metadata": {},
   "outputs": [],
   "source": [
    "A = {1, 2, 3, 4, 5} \n",
    "B = {3, 10, 5, 7}"
   ]
  },
  {
   "cell_type": "code",
   "execution_count": 57,
   "id": "2c173aa9-2b8b-4f0e-9585-8aeb02cd7e26",
   "metadata": {},
   "outputs": [
    {
     "data": {
      "text/plain": [
       "{3, 5}"
      ]
     },
     "execution_count": 57,
     "metadata": {},
     "output_type": "execute_result"
    }
   ],
   "source": [
    "A.intersection(B)"
   ]
  },
  {
   "cell_type": "code",
   "execution_count": 58,
   "id": "547037dc-4482-47f9-a13f-e48983e5d7a2",
   "metadata": {},
   "outputs": [
    {
     "data": {
      "text/plain": [
       "{1, 2, 3, 4, 5, 7, 10}"
      ]
     },
     "execution_count": 58,
     "metadata": {},
     "output_type": "execute_result"
    }
   ],
   "source": [
    "A.union(B)"
   ]
  },
  {
   "cell_type": "code",
   "execution_count": 59,
   "id": "c51cb52f-e686-4dcd-b6fc-6e67cb4db547",
   "metadata": {},
   "outputs": [
    {
     "data": {
      "text/plain": [
       "{1, 2, 4}"
      ]
     },
     "execution_count": 59,
     "metadata": {},
     "output_type": "execute_result"
    }
   ],
   "source": [
    "A.difference(B)"
   ]
  },
  {
   "cell_type": "code",
   "execution_count": 60,
   "id": "f326fb9c-28b3-445d-8660-571a64e2c32c",
   "metadata": {},
   "outputs": [
    {
     "data": {
      "text/plain": [
       "{7, 10}"
      ]
     },
     "execution_count": 60,
     "metadata": {},
     "output_type": "execute_result"
    }
   ],
   "source": [
    "B.difference(A)"
   ]
  },
  {
   "cell_type": "markdown",
   "id": "d684ac28-fdb8-4d9c-8b15-f44acec80de1",
   "metadata": {},
   "source": [
    "23. Vi har definierat det två listorna \"list_a\" och \"list_b\" nedan. Nedanstående uppgifter kan enkelt lösas genom att konvertera de definierade listorna till mängder först. \n",
    "\n",
    "a) Hitta alla element som är i både list_a och list_b.\n",
    "\n",
    "b) Hitta alla element som är i list_a och/eller list_b."
   ]
  },
  {
   "cell_type": "code",
   "execution_count": 61,
   "id": "fb48b26e-933e-4c14-8fa5-e24ee6c749b5",
   "metadata": {},
   "outputs": [],
   "source": [
    "list_a = [1, 2, 3, 4, 5]\n",
    "list_b = [5, 6, 10, 21]"
   ]
  },
  {
   "cell_type": "code",
   "execution_count": 62,
   "id": "b980f497-16cd-4ccc-8cb2-34c67a2af6b0",
   "metadata": {},
   "outputs": [],
   "source": [
    "A = set(list_a)\n",
    "B = set(list_b)"
   ]
  },
  {
   "cell_type": "code",
   "execution_count": 63,
   "id": "7114fa7d-2f2e-43c6-8303-05a69793a3e4",
   "metadata": {},
   "outputs": [
    {
     "data": {
      "text/plain": [
       "{5}"
      ]
     },
     "execution_count": 63,
     "metadata": {},
     "output_type": "execute_result"
    }
   ],
   "source": [
    "A.intersection(B)"
   ]
  },
  {
   "cell_type": "code",
   "execution_count": 64,
   "id": "80dc18b8-6537-4192-bf4e-7f76815aadd9",
   "metadata": {},
   "outputs": [
    {
     "data": {
      "text/plain": [
       "{1, 2, 3, 4, 5, 6, 10, 21}"
      ]
     },
     "execution_count": 64,
     "metadata": {},
     "output_type": "execute_result"
    }
   ],
   "source": [
    "A.union(B)"
   ]
  },
  {
   "cell_type": "markdown",
   "id": "30001930-633f-4a20-bd2b-2ee190c10eab",
   "metadata": {},
   "source": [
    "24. Hitta alla unika element i variabeln \"duplicate_values\" genom att konvertera \"tuplen\" till en \"set\". "
   ]
  },
  {
   "cell_type": "code",
   "execution_count": 65,
   "id": "76c9fdd2-bd75-4fa1-b7a0-0ac15a850511",
   "metadata": {},
   "outputs": [],
   "source": [
    "duplicate_values = (10, 2, 2, 10, 1)"
   ]
  },
  {
   "cell_type": "code",
   "execution_count": 66,
   "id": "ab80492a-b1eb-4487-aae5-d9d809bb830c",
   "metadata": {},
   "outputs": [
    {
     "data": {
      "text/plain": [
       "{1, 2, 10}"
      ]
     },
     "execution_count": 66,
     "metadata": {},
     "output_type": "execute_result"
    }
   ],
   "source": [
    "set(duplicate_values)"
   ]
  }
 ],
 "metadata": {
  "kernelspec": {
   "display_name": "myenv",
   "language": "python",
   "name": "python3"
  },
  "language_info": {
   "codemirror_mode": {
    "name": "ipython",
    "version": 3
   },
   "file_extension": ".py",
   "mimetype": "text/x-python",
   "name": "python",
   "nbconvert_exporter": "python",
   "pygments_lexer": "ipython3",
   "version": "3.12.6"
  }
 },
 "nbformat": 4,
 "nbformat_minor": 5
}
